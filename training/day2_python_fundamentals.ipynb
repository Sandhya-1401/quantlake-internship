{
  "nbformat": 4,
  "nbformat_minor": 0,
  "metadata": {
    "colab": {
      "provenance": []
    },
    "kernelspec": {
      "name": "python3",
      "display_name": "Python 3"
    },
    "language_info": {
      "name": "python"
    }
  },
  "cells": [
    {
      "cell_type": "markdown",
      "source": [
        "# **Day 2 – Python Fundamentals**"
      ],
      "metadata": {
        "id": "l7Ma0Eap924w"
      }
    },
    {
      "cell_type": "markdown",
      "source": [
        "Day 2 of the QuantLake Internship"
      ],
      "metadata": {
        "id": "AcEJOcbJ_ZCj"
      }
    },
    {
      "cell_type": "markdown",
      "source": [
        "## **Objective**"
      ],
      "metadata": {
        "id": "4zi_j6aK_mgF"
      }
    },
    {
      "cell_type": "markdown",
      "source": [
        "- Strengthen understanding of Python data structures\n",
        "- Practice functions, modules, and exception handling\n",
        "- Apply logic through mini problems and clean coding"
      ],
      "metadata": {
        "id": "aYidHy1aAqUd"
      }
    },
    {
      "cell_type": "markdown",
      "source": [
        "## **Section 1: Data Structures Deep Dive**"
      ],
      "metadata": {
        "id": "e_Ivb-a7Atay"
      }
    },
    {
      "cell_type": "markdown",
      "source": [
        "Python provides several built-in data structures that are essential for solving real-world problems.\n",
        "\n",
        "In this section, we’ll explore:\n",
        "- Lists\n",
        "- Tuples\n",
        "- Sets\n",
        "- Dictionaries"
      ],
      "metadata": {
        "id": "NITF57v8BawG"
      }
    },
    {
      "cell_type": "code",
      "source": [
        "# Example usage of all 4 major Python data structures\n",
        "\n",
        "# List: Ordered, mutable\n",
        "fruits = ['apple', 'banana', 'cherry']\n",
        "fruits.append('orange')\n",
        "print(\"List:\", fruits)\n",
        "\n",
        "# Tuple: Ordered, immutable\n",
        "dimensions = (1920, 1080)\n",
        "print(\"Tuple:\", dimensions)\n",
        "\n",
        "# Set: Unordered, no duplicates\n",
        "unique_nums = {1, 2, 2, 3, 4}\n",
        "print(\"Set:\", unique_nums)\n",
        "\n",
        "# Dictionary: Key-value pairs\n",
        "student = {'name': 'Sandhya', 'course': 'Data Analytics', 'score': 92}\n",
        "print(\"Dictionary:\", student)"
      ],
      "metadata": {
        "colab": {
          "base_uri": "https://localhost:8080/"
        },
        "id": "j5XQug7iE8hh",
        "outputId": "7c32f0d7-a625-4549-b3bc-b1ec22217d46"
      },
      "execution_count": 19,
      "outputs": [
        {
          "output_type": "stream",
          "name": "stdout",
          "text": [
            "List: ['apple', 'banana', 'cherry', 'orange']\n",
            "Tuple: (1920, 1080)\n",
            "Set: {1, 2, 3, 4}\n",
            "Dictionary: {'name': 'Sandhya', 'course': 'Data Analytics', 'score': 92}\n"
          ]
        }
      ]
    },
    {
      "cell_type": "code",
      "source": [
        "# List Sorting & Set for Duplicates\n",
        "numbers = [5, 3, 5, 2, 1, 3]\n",
        "sorted_numbers = sorted(numbers)\n",
        "print(\"Sorted:\", sorted_numbers)\n",
        "\n",
        "unique_numbers = list(set(numbers))\n",
        "print(\"Unique:\", unique_numbers)"
      ],
      "metadata": {
        "colab": {
          "base_uri": "https://localhost:8080/"
        },
        "id": "RH4SS5-0CL0I",
        "outputId": "2291f594-1789-4aa9-8827-65b365efb662"
      },
      "execution_count": 1,
      "outputs": [
        {
          "output_type": "stream",
          "name": "stdout",
          "text": [
            "Sorted: [1, 2, 3, 3, 5, 5]\n",
            "Unique: [1, 2, 3, 5]\n"
          ]
        }
      ]
    },
    {
      "cell_type": "code",
      "source": [
        "# Tuples & Sets\n",
        "sample_tuple = (1, 2, 3)\n",
        "sample_set = {1, 2, 2, 3}\n",
        "\n",
        "print(\"Tuple:\", sample_tuple)\n",
        "print(\"Set (automatically removes duplicates):\", sample_set)\n"
      ],
      "metadata": {
        "colab": {
          "base_uri": "https://localhost:8080/"
        },
        "id": "y6j2X1AzCksN",
        "outputId": "ae36acee-e46e-4b7e-96da-ffb20df7c5be"
      },
      "execution_count": 5,
      "outputs": [
        {
          "output_type": "stream",
          "name": "stdout",
          "text": [
            "Tuple: (1, 2, 3)\n",
            "Set (automatically removes duplicates): {1, 2, 3}\n"
          ]
        }
      ]
    },
    {
      "cell_type": "code",
      "source": [
        "# Nested Dictionary Lookup\n",
        "person = {'name': 'Sandhya', 'details': {'skills': {'python': 'intermediate'}}}\n",
        "print(person['details']['skills']['python'])"
      ],
      "metadata": {
        "colab": {
          "base_uri": "https://localhost:8080/"
        },
        "id": "O3peiTNyCPMn",
        "outputId": "847855d7-2f1a-49f1-972c-a303cf974903"
      },
      "execution_count": 3,
      "outputs": [
        {
          "output_type": "stream",
          "name": "stdout",
          "text": [
            "intermediate\n"
          ]
        }
      ]
    },
    {
      "cell_type": "code",
      "source": [
        "# List Comprehension\n",
        "squares = [x**2 for x in range(1, 6)]\n",
        "print(\"Squares:\", squares)"
      ],
      "metadata": {
        "colab": {
          "base_uri": "https://localhost:8080/"
        },
        "id": "DEzrQMmOCaZ1",
        "outputId": "3a4a00f2-124a-42db-80e1-dfaf205fda93"
      },
      "execution_count": 4,
      "outputs": [
        {
          "output_type": "stream",
          "name": "stdout",
          "text": [
            "Squares: [1, 4, 9, 16, 25]\n"
          ]
        }
      ]
    },
    {
      "cell_type": "markdown",
      "source": [
        "## **Section 2: Functions & Modules**"
      ],
      "metadata": {
        "id": "AHGvOVqwA5Ud"
      }
    },
    {
      "cell_type": "markdown",
      "source": [
        "Functions help write reusable code. Python also provides powerful modules to save time.\n",
        "\n",
        "In this section:\n",
        "- Create your own functions\n",
        "- Use built-in modules: `math`, `random`, `datetime`"
      ],
      "metadata": {
        "id": "2dP0egBbCxvI"
      }
    },
    {
      "cell_type": "code",
      "source": [
        "# Factorial Calculator\n",
        "def factorial(n):\n",
        "    if n == 0:\n",
        "        return 1\n",
        "    return n * factorial(n-1)\n",
        "\n",
        "print(\"Factorial of 5:\", factorial(5))"
      ],
      "metadata": {
        "colab": {
          "base_uri": "https://localhost:8080/"
        },
        "id": "uI1xCe1XC2HA",
        "outputId": "a06fa5f5-3d6e-447d-dbf5-d0a7a4bfa04d"
      },
      "execution_count": 6,
      "outputs": [
        {
          "output_type": "stream",
          "name": "stdout",
          "text": [
            "Factorial of 5: 120\n"
          ]
        }
      ]
    },
    {
      "cell_type": "code",
      "source": [
        "# Prime Number Checker\n",
        "def is_prime(n):\n",
        "    if n <= 1:\n",
        "        return False\n",
        "    for i in range(2, int(n**0.5) + 1):\n",
        "        if n % i == 0:\n",
        "            return False\n",
        "    return True\n",
        "\n",
        "print(\"Is 17 a prime number?\", is_prime(17))"
      ],
      "metadata": {
        "colab": {
          "base_uri": "https://localhost:8080/"
        },
        "id": "2Va2GWh4DDMu",
        "outputId": "da53a29c-a90a-46ec-a19a-89690f7ab177"
      },
      "execution_count": 7,
      "outputs": [
        {
          "output_type": "stream",
          "name": "stdout",
          "text": [
            "Is 17 a prime number? True\n"
          ]
        }
      ]
    },
    {
      "cell_type": "code",
      "source": [
        "# Built-in Modules\n",
        "import math\n",
        "import random\n",
        "import datetime\n",
        "\n",
        "print(\"Square root of 49:\", math.sqrt(49))\n",
        "print(\"Random number between 1 and 100:\", random.randint(1, 100))\n",
        "print(\"Current date and time:\", datetime.datetime.now())"
      ],
      "metadata": {
        "colab": {
          "base_uri": "https://localhost:8080/"
        },
        "id": "BiuihuhADIwm",
        "outputId": "f04920ed-61d8-4a52-fd41-08b4f2d82717"
      },
      "execution_count": 10,
      "outputs": [
        {
          "output_type": "stream",
          "name": "stdout",
          "text": [
            "Square root of 49: 7.0\n",
            "Random number between 1 and 100: 62\n",
            "Current date and time: 2025-06-19 07:17:30.949123\n"
          ]
        }
      ]
    },
    {
      "cell_type": "markdown",
      "source": [
        "## **Section 3: Exception Handling**"
      ],
      "metadata": {
        "id": "NeLF0bAXBDAa"
      }
    },
    {
      "cell_type": "markdown",
      "source": [
        "Exception handling ensures that your program doesn't crash unexpectedly.\n",
        "\n",
        "Try/Except is used to handle errors gracefully."
      ],
      "metadata": {
        "id": "7DBUlMmeDQQ8"
      }
    },
    {
      "cell_type": "code",
      "source": [
        "# Division by Zero Example\n",
        "try:\n",
        "    result = 10 / 0\n",
        "except ZeroDivisionError:\n",
        "    print(\"Error: Cannot divide by zero.\")\n",
        "finally:\n",
        "    print(\"This message always appears.\")"
      ],
      "metadata": {
        "colab": {
          "base_uri": "https://localhost:8080/"
        },
        "id": "a8B3A-OtDT3U",
        "outputId": "74440e74-1b9e-4f5d-b131-3f84086452ec"
      },
      "execution_count": 11,
      "outputs": [
        {
          "output_type": "stream",
          "name": "stdout",
          "text": [
            "Error: Cannot divide by zero.\n",
            "This message always appears.\n"
          ]
        }
      ]
    },
    {
      "cell_type": "code",
      "source": [
        "# Input Validation\n",
        "try:\n",
        "    age = int(input(\"Enter your age: \"))\n",
        "    print(\"Your age is:\", age)\n",
        "except ValueError:\n",
        "    print(\"Invalid input! Please enter a valid number.\")"
      ],
      "metadata": {
        "colab": {
          "base_uri": "https://localhost:8080/"
        },
        "id": "knl2w1wWDX2s",
        "outputId": "f23caa84-4458-466b-9306-8b05b94f09c4"
      },
      "execution_count": 12,
      "outputs": [
        {
          "output_type": "stream",
          "name": "stdout",
          "text": [
            "Enter your age: 20\n",
            "Your age is: 20\n"
          ]
        }
      ]
    },
    {
      "cell_type": "markdown",
      "source": [
        "## **Section 4: Practice Problems**"
      ],
      "metadata": {
        "id": "--uAA-93BIe6"
      }
    },
    {
      "cell_type": "markdown",
      "source": [
        "Practice makes perfect !!\n",
        "\n",
        "Below are some basic coding challenges to improve logical thinking."
      ],
      "metadata": {
        "id": "HB15wzd9D_FA"
      }
    },
    {
      "cell_type": "code",
      "execution_count": 16,
      "metadata": {
        "colab": {
          "base_uri": "https://localhost:8080/"
        },
        "id": "YFtFs_2w9iLS",
        "outputId": "a02120de-0041-48b7-b016-b8f82475c3a3"
      },
      "outputs": [
        {
          "output_type": "stream",
          "name": "stdout",
          "text": [
            "1\n",
            "2\n",
            "Fizz\n",
            "4\n",
            "Buzz\n",
            "Fizz\n",
            "7\n",
            "8\n",
            "Fizz\n",
            "Buzz\n",
            "11\n",
            "Fizz\n",
            "13\n",
            "14\n",
            "FizzBuzz\n",
            "16\n",
            "17\n",
            "Fizz\n",
            "19\n",
            "Buzz\n"
          ]
        }
      ],
      "source": [
        "# FizzBuzz (1 to 20)\n",
        "for i in range(1, 21):\n",
        "    if i % 3 == 0 and i % 5 == 0:\n",
        "        print(\"FizzBuzz\")\n",
        "    elif i % 3 == 0:\n",
        "        print(\"Fizz\")\n",
        "    elif i % 5 == 0:\n",
        "        print(\"Buzz\")\n",
        "    else:\n",
        "        print(i)"
      ]
    },
    {
      "cell_type": "code",
      "source": [
        "# Find the Largest Number\n",
        "nums = [12, 47, 85, 22, 99]\n",
        "print(\"Largest number in the list:\", max(nums))"
      ],
      "metadata": {
        "colab": {
          "base_uri": "https://localhost:8080/"
        },
        "id": "nBJnpkmeEE-V",
        "outputId": "b313b9ae-c480-4bda-8396-971e513c52ae"
      },
      "execution_count": 17,
      "outputs": [
        {
          "output_type": "stream",
          "name": "stdout",
          "text": [
            "Largest number in the list: 99\n"
          ]
        }
      ]
    },
    {
      "cell_type": "code",
      "source": [
        "# Reverse a String\n",
        "s = \"QuantLake\"\n",
        "print(\"Reversed string:\", s[::-1])"
      ],
      "metadata": {
        "colab": {
          "base_uri": "https://localhost:8080/"
        },
        "id": "ajs62_HVEG87",
        "outputId": "4f9aff6f-4752-46c4-a94c-aec2f2ad3583"
      },
      "execution_count": 18,
      "outputs": [
        {
          "output_type": "stream",
          "name": "stdout",
          "text": [
            "Reversed string: ekaLtnauQ\n"
          ]
        }
      ]
    },
    {
      "cell_type": "markdown",
      "source": [
        "## **Summary**"
      ],
      "metadata": {
        "id": "qPQDucnvEQpb"
      }
    },
    {
      "cell_type": "markdown",
      "source": [
        "In this notebook, I deepened my understanding of Python's core concepts through hands-on practice.\n",
        "\n",
        "### 🔍 Key Concepts Covered:\n",
        "- **Data Structures:** Explored lists, tuples, sets, dictionaries, list comprehension, and nested dictionary access.\n",
        "- **Functions:** Created reusable functions like factorial calculator and prime number checker.\n",
        "- **Modules:** Utilized `math`, `random`, and `datetime` to perform real-world computations.\n",
        "- **Error Handling:** Implemented `try-except-finally` blocks to manage runtime errors gracefully.\n",
        "- **Problem Solving:** Solved logic-based mini problems including FizzBuzz, finding the maximum in a list, and string reversal.\n",
        "\n",
        "### 💡 Learning Outcomes:\n",
        "- Improved confidence in using Python structures to store and process data efficiently.\n",
        "- Developed the ability to write clean, modular, and reusable code.\n",
        "- Learned how to handle errors smartly using exception blocks.\n",
        "- Strengthened logic building through problem-solving.\n",
        "\n",
        "🎯 Overall, this day pushed me to think more like a developer — with a focus on clarity, structure, and real-world application."
      ],
      "metadata": {
        "id": "I1At1WLUEYBv"
      }
    }
  ]
}