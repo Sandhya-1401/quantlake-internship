{
  "nbformat": 4,
  "nbformat_minor": 0,
  "metadata": {
    "colab": {
      "provenance": []
    },
    "kernelspec": {
      "name": "python3",
      "display_name": "Python 3"
    },
    "language_info": {
      "name": "python"
    }
  },
  "cells": [
    {
      "cell_type": "markdown",
      "source": [
        "# **Day 3 – Python + Pandas Introduction**"
      ],
      "metadata": {
        "id": "Hzs7cFvfUJGL"
      }
    },
    {
      "cell_type": "markdown",
      "source": [
        "Day 3 of the QuantLake Internship"
      ],
      "metadata": {
        "id": "czCIHnd5UMFz"
      }
    },
    {
      "cell_type": "markdown",
      "source": [
        "## **Objective**"
      ],
      "metadata": {
        "id": "8ksHkSjfUPaV"
      }
    },
    {
      "cell_type": "markdown",
      "source": [
        "- Learn the basics of `pandas`, the most essential Python library for data analytics\n",
        "- Practice loading, exploring, and manipulating real-world datasets\n",
        "- Understand key differences between `Series` and `DataFrame`\n",
        "- Build strong fundamentals for future analysis"
      ],
      "metadata": {
        "id": "rLCjKda8URzp"
      }
    },
    {
      "cell_type": "markdown",
      "source": [
        "## **Section 1: Pandas Basics – Series & DataFrame**"
      ],
      "metadata": {
        "id": "EF0U6mBjUasd"
      }
    },
    {
      "cell_type": "markdown",
      "source": [
        "In this section, i create Pandas Series and DataFrames from scratch.\n",
        "A Series is a one-dimensional labeled array, while a DataFrame is a two-dimensional table with labeled rows and columns — similar to an Excel sheet or SQL table.\n",
        "\n",
        "We also explore `.head()`, `.tail()`, `.shape`, `.columns`, `.index`, and `.dtypes` to inspect the dataset’s structure.\n",
        "\n"
      ],
      "metadata": {
        "id": "n1zMShHPWR1G"
      }
    },
    {
      "cell_type": "code",
      "execution_count": 1,
      "metadata": {
        "id": "fyarc4OYT4EW"
      },
      "outputs": [],
      "source": [
        "import pandas as pd\n",
        "import numpy as np"
      ]
    },
    {
      "cell_type": "code",
      "source": [
        "# Creating a Pandas Series\n",
        "marks = pd.Series([88, 76, 93, 85], name=\"Marks\")\n",
        "print(\"Series:\\n\", marks)"
      ],
      "metadata": {
        "colab": {
          "base_uri": "https://localhost:8080/"
        },
        "id": "kQOl91nKUjGV",
        "outputId": "06486f6a-3047-4738-d478-aaa17238ef9d"
      },
      "execution_count": 2,
      "outputs": [
        {
          "output_type": "stream",
          "name": "stdout",
          "text": [
            "Series:\n",
            " 0    88\n",
            "1    76\n",
            "2    93\n",
            "3    85\n",
            "Name: Marks, dtype: int64\n"
          ]
        }
      ]
    },
    {
      "cell_type": "code",
      "source": [
        "# Creating a DataFrame from dictionary\n",
        "data = {\n",
        "    'Name': ['Sandhya', 'Dev', 'Shiv', 'Lakshmi'],\n",
        "    'Age': [21, 22, 21, 23],\n",
        "    'City': ['Indore', 'Ahmedabad', 'Nagpur', 'Vizag']\n",
        "}\n",
        "df = pd.DataFrame(data)\n",
        "print(\"\\nDataFrame:\\n\", df)"
      ],
      "metadata": {
        "colab": {
          "base_uri": "https://localhost:8080/"
        },
        "id": "hx5g4GOjUkod",
        "outputId": "31b117da-e694-4bbd-90f6-b4c644afde6e"
      },
      "execution_count": 3,
      "outputs": [
        {
          "output_type": "stream",
          "name": "stdout",
          "text": [
            "\n",
            "DataFrame:\n",
            "       Name  Age       City\n",
            "0  Sandhya   21     Indore\n",
            "1      Dev   22  Ahmedabad\n",
            "2     Shiv   21     Nagpur\n",
            "3  Lakshmi   23      Vizag\n"
          ]
        }
      ]
    },
    {
      "cell_type": "code",
      "source": [
        "# Basic inspection\n",
        "print(\"\\nHead:\\n\", df.head())\n",
        "print(\"\\nTail:\\n\", df.tail())\n",
        "print(\"Shape:\", df.shape)\n",
        "print(\"Columns:\", df.columns.tolist())\n",
        "print(\"Index:\", df.index)\n",
        "print(\"Data Types:\\n\", df.dtypes)"
      ],
      "metadata": {
        "colab": {
          "base_uri": "https://localhost:8080/"
        },
        "id": "KzAoIjZWUmxn",
        "outputId": "5e36037b-b85b-4f03-84d7-ff37b50f0620"
      },
      "execution_count": 4,
      "outputs": [
        {
          "output_type": "stream",
          "name": "stdout",
          "text": [
            "\n",
            "Head:\n",
            "       Name  Age       City\n",
            "0  Sandhya   21     Indore\n",
            "1      Dev   22  Ahmedabad\n",
            "2     Shiv   21     Nagpur\n",
            "3  Lakshmi   23      Vizag\n",
            "\n",
            "Tail:\n",
            "       Name  Age       City\n",
            "0  Sandhya   21     Indore\n",
            "1      Dev   22  Ahmedabad\n",
            "2     Shiv   21     Nagpur\n",
            "3  Lakshmi   23      Vizag\n",
            "Shape: (4, 3)\n",
            "Columns: ['Name', 'Age', 'City']\n",
            "Index: RangeIndex(start=0, stop=4, step=1)\n",
            "Data Types:\n",
            " Name    object\n",
            "Age      int64\n",
            "City    object\n",
            "dtype: object\n"
          ]
        }
      ]
    },
    {
      "cell_type": "markdown",
      "source": [
        "## **Section 2: Load and View Real Dataset (Iris)**"
      ],
      "metadata": {
        "id": "SkAJR_jLUrc2"
      }
    },
    {
      "cell_type": "markdown",
      "source": [
        "This section focuses on loading a real-world dataset (iris) using `seaborn.load_dataset()` and exploring it using Pandas tools like `.info()`, `.describe()`, and `.isnull().sum()`\n",
        "\n",
        "These methods help understand:\n",
        "\n",
        "- Dataset size\n",
        "- Data types\n",
        "\n",
        "- Missing values\n",
        "- Statistical summary (mean, std, min, etc.)"
      ],
      "metadata": {
        "id": "bl6uTGgOWcBB"
      }
    },
    {
      "cell_type": "code",
      "source": [
        "import seaborn as sns"
      ],
      "metadata": {
        "id": "VoMYA4hcUpRC"
      },
      "execution_count": 5,
      "outputs": []
    },
    {
      "cell_type": "code",
      "source": [
        "# Load the built-in Iris dataset\n",
        "iris = sns.load_dataset('iris')\n",
        "print(iris.head())"
      ],
      "metadata": {
        "colab": {
          "base_uri": "https://localhost:8080/"
        },
        "id": "Ih-qv5QtUx3G",
        "outputId": "89482f86-b91c-4561-c00c-4b3cde283cf1"
      },
      "execution_count": 6,
      "outputs": [
        {
          "output_type": "stream",
          "name": "stdout",
          "text": [
            "   sepal_length  sepal_width  petal_length  petal_width species\n",
            "0           5.1          3.5           1.4          0.2  setosa\n",
            "1           4.9          3.0           1.4          0.2  setosa\n",
            "2           4.7          3.2           1.3          0.2  setosa\n",
            "3           4.6          3.1           1.5          0.2  setosa\n",
            "4           5.0          3.6           1.4          0.2  setosa\n"
          ]
        }
      ]
    },
    {
      "cell_type": "code",
      "source": [
        "# Basic info\n",
        "iris.info()"
      ],
      "metadata": {
        "colab": {
          "base_uri": "https://localhost:8080/"
        },
        "id": "Qzbnk9iSUzzR",
        "outputId": "d0f8b134-b4a2-40ad-eec7-d63298ac9b6f"
      },
      "execution_count": 7,
      "outputs": [
        {
          "output_type": "stream",
          "name": "stdout",
          "text": [
            "<class 'pandas.core.frame.DataFrame'>\n",
            "RangeIndex: 150 entries, 0 to 149\n",
            "Data columns (total 5 columns):\n",
            " #   Column        Non-Null Count  Dtype  \n",
            "---  ------        --------------  -----  \n",
            " 0   sepal_length  150 non-null    float64\n",
            " 1   sepal_width   150 non-null    float64\n",
            " 2   petal_length  150 non-null    float64\n",
            " 3   petal_width   150 non-null    float64\n",
            " 4   species       150 non-null    object \n",
            "dtypes: float64(4), object(1)\n",
            "memory usage: 6.0+ KB\n"
          ]
        }
      ]
    },
    {
      "cell_type": "code",
      "source": [
        "# Descriptive statistics\n",
        "print(iris.describe())"
      ],
      "metadata": {
        "colab": {
          "base_uri": "https://localhost:8080/"
        },
        "id": "QbbssSy2U1o1",
        "outputId": "59c93f64-0a3e-47cd-d1b5-b6e0fef24c00"
      },
      "execution_count": 8,
      "outputs": [
        {
          "output_type": "stream",
          "name": "stdout",
          "text": [
            "       sepal_length  sepal_width  petal_length  petal_width\n",
            "count    150.000000   150.000000    150.000000   150.000000\n",
            "mean       5.843333     3.057333      3.758000     1.199333\n",
            "std        0.828066     0.435866      1.765298     0.762238\n",
            "min        4.300000     2.000000      1.000000     0.100000\n",
            "25%        5.100000     2.800000      1.600000     0.300000\n",
            "50%        5.800000     3.000000      4.350000     1.300000\n",
            "75%        6.400000     3.300000      5.100000     1.800000\n",
            "max        7.900000     4.400000      6.900000     2.500000\n"
          ]
        }
      ]
    },
    {
      "cell_type": "code",
      "source": [
        "# Check for null values\n",
        "print(\"Null values in each column:\\n\", iris.isnull().sum())"
      ],
      "metadata": {
        "colab": {
          "base_uri": "https://localhost:8080/"
        },
        "id": "CHOS01iPU47r",
        "outputId": "1a4cc348-0ab3-45f6-f17d-c487e1af9b04"
      },
      "execution_count": 9,
      "outputs": [
        {
          "output_type": "stream",
          "name": "stdout",
          "text": [
            "Null values in each column:\n",
            " sepal_length    0\n",
            "sepal_width     0\n",
            "petal_length    0\n",
            "petal_width     0\n",
            "species         0\n",
            "dtype: int64\n"
          ]
        }
      ]
    },
    {
      "cell_type": "code",
      "source": [
        "# Row and column count\n",
        "print(\"Rows:\", iris.shape[0], \"| Columns:\", iris.shape[1])"
      ],
      "metadata": {
        "colab": {
          "base_uri": "https://localhost:8080/"
        },
        "id": "Jzxuf33TU67L",
        "outputId": "eeaf4b1e-42da-47f1-8fb4-f0fc2a7c93db"
      },
      "execution_count": 10,
      "outputs": [
        {
          "output_type": "stream",
          "name": "stdout",
          "text": [
            "Rows: 150 | Columns: 5\n"
          ]
        }
      ]
    },
    {
      "cell_type": "markdown",
      "source": [
        "## **Section 3: Accessing & Filtering Data**"
      ],
      "metadata": {
        "id": "dch5xI5DU_10"
      }
    },
    {
      "cell_type": "markdown",
      "source": [
        "Here we learn how to access and filter specific parts of the data using:\n",
        "\n",
        "df['column'], df[['col1', 'col2']]\n",
        "\n",
        ".loc[] (label-based) and .iloc[] (index-based)\n",
        "We also:\n",
        "\n",
        "Add a new column (e.g. derived metric)\n",
        "\n",
        "Drop unwanted rows or columns using .drop()"
      ],
      "metadata": {
        "id": "1GzGqWXWWrF1"
      }
    },
    {
      "cell_type": "code",
      "source": [
        "# Accessing single and multiple columns\n",
        "print(iris['species'].head())\n",
        "print(iris[['sepal_length', 'species']].head())"
      ],
      "metadata": {
        "colab": {
          "base_uri": "https://localhost:8080/"
        },
        "id": "oEgk3ZWSU8iK",
        "outputId": "3d2668fe-ae57-4350-974b-e3b72f44d0d2"
      },
      "execution_count": 11,
      "outputs": [
        {
          "output_type": "stream",
          "name": "stdout",
          "text": [
            "0    setosa\n",
            "1    setosa\n",
            "2    setosa\n",
            "3    setosa\n",
            "4    setosa\n",
            "Name: species, dtype: object\n",
            "   sepal_length species\n",
            "0           5.1  setosa\n",
            "1           4.9  setosa\n",
            "2           4.7  setosa\n",
            "3           4.6  setosa\n",
            "4           5.0  setosa\n"
          ]
        }
      ]
    },
    {
      "cell_type": "code",
      "source": [
        "# Using loc and iloc\n",
        "print(\"\\nUsing loc:\\n\", iris.loc[0:4, ['sepal_length', 'species']])\n",
        "print(\"\\nUsing iloc:\\n\", iris.iloc[0:5, 0:2])"
      ],
      "metadata": {
        "colab": {
          "base_uri": "https://localhost:8080/"
        },
        "id": "G1vpTjCSVD6z",
        "outputId": "03fad69e-3923-4a3b-9416-ac9ac801fdfa"
      },
      "execution_count": 12,
      "outputs": [
        {
          "output_type": "stream",
          "name": "stdout",
          "text": [
            "\n",
            "Using loc:\n",
            "    sepal_length species\n",
            "0           5.1  setosa\n",
            "1           4.9  setosa\n",
            "2           4.7  setosa\n",
            "3           4.6  setosa\n",
            "4           5.0  setosa\n",
            "\n",
            "Using iloc:\n",
            "    sepal_length  sepal_width\n",
            "0           5.1          3.5\n",
            "1           4.9          3.0\n",
            "2           4.7          3.2\n",
            "3           4.6          3.1\n",
            "4           5.0          3.6\n"
          ]
        }
      ]
    },
    {
      "cell_type": "code",
      "source": [
        "# Add a new column\n",
        "iris['sepal_area'] = iris['sepal_length'] * iris['sepal_width']\n",
        "print(\"\\nAdded new column 'sepal_area':\\n\", iris.head())"
      ],
      "metadata": {
        "colab": {
          "base_uri": "https://localhost:8080/"
        },
        "id": "O8hnhX6eVF2g",
        "outputId": "a0784286-06f5-4aab-efcf-a6a988c270ae"
      },
      "execution_count": 13,
      "outputs": [
        {
          "output_type": "stream",
          "name": "stdout",
          "text": [
            "\n",
            "Added new column 'sepal_area':\n",
            "    sepal_length  sepal_width  petal_length  petal_width species  sepal_area\n",
            "0           5.1          3.5           1.4          0.2  setosa       17.85\n",
            "1           4.9          3.0           1.4          0.2  setosa       14.70\n",
            "2           4.7          3.2           1.3          0.2  setosa       15.04\n",
            "3           4.6          3.1           1.5          0.2  setosa       14.26\n",
            "4           5.0          3.6           1.4          0.2  setosa       18.00\n"
          ]
        }
      ]
    },
    {
      "cell_type": "code",
      "source": [
        "# Drop a column\n",
        "iris_dropped = iris.drop(columns=['petal_width'])\n",
        "print(\"\\nDropped 'petal_width':\\n\", iris_dropped.head())"
      ],
      "metadata": {
        "colab": {
          "base_uri": "https://localhost:8080/"
        },
        "id": "SMDmVbUAVH9q",
        "outputId": "096d9af1-2f6a-4222-be8e-e091fd89bfbe"
      },
      "execution_count": 14,
      "outputs": [
        {
          "output_type": "stream",
          "name": "stdout",
          "text": [
            "\n",
            "Dropped 'petal_width':\n",
            "    sepal_length  sepal_width  petal_length species  sepal_area\n",
            "0           5.1          3.5           1.4  setosa       17.85\n",
            "1           4.9          3.0           1.4  setosa       14.70\n",
            "2           4.7          3.2           1.3  setosa       15.04\n",
            "3           4.6          3.1           1.5  setosa       14.26\n",
            "4           5.0          3.6           1.4  setosa       18.00\n"
          ]
        }
      ]
    },
    {
      "cell_type": "markdown",
      "source": [
        "## **Section 4: Pandas Built-in Methods**"
      ],
      "metadata": {
        "id": "qphs5eIlVMcr"
      }
    },
    {
      "cell_type": "markdown",
      "source": [
        "In this section, we apply commonly used Pandas methods to summarize and analyze data:\n",
        "\n",
        "- `.sort_values()`, `.value_counts()`, `.unique()`\n",
        "\n",
        "- `.mean()`, `.sum()`, `.min()`, `.max()`\n",
        "These help us perform exploratory data analysis (EDA) and understand key patterns or distributions in the dataset."
      ],
      "metadata": {
        "id": "yrQJiMpdXER3"
      }
    },
    {
      "cell_type": "code",
      "source": [
        "# Sorting values\n",
        "sorted_iris = iris.sort_values(by='sepal_length', ascending=False)\n",
        "print(\"Sorted by sepal_length:\\n\", sorted_iris.head())"
      ],
      "metadata": {
        "colab": {
          "base_uri": "https://localhost:8080/"
        },
        "id": "xXIkoU0SVKTG",
        "outputId": "464b220d-252b-41d2-e57e-3d9e96885520"
      },
      "execution_count": 15,
      "outputs": [
        {
          "output_type": "stream",
          "name": "stdout",
          "text": [
            "Sorted by sepal_length:\n",
            "      sepal_length  sepal_width  petal_length  petal_width    species  \\\n",
            "131           7.9          3.8           6.4          2.0  virginica   \n",
            "122           7.7          2.8           6.7          2.0  virginica   \n",
            "118           7.7          2.6           6.9          2.3  virginica   \n",
            "117           7.7          3.8           6.7          2.2  virginica   \n",
            "135           7.7          3.0           6.1          2.3  virginica   \n",
            "\n",
            "     sepal_area  \n",
            "131       30.02  \n",
            "122       21.56  \n",
            "118       20.02  \n",
            "117       29.26  \n",
            "135       23.10  \n"
          ]
        }
      ]
    },
    {
      "cell_type": "code",
      "source": [
        "# Unique values and value counts\n",
        "print(\"Unique species:\", iris['species'].unique())\n",
        "print(\"Species counts:\\n\", iris['species'].value_counts())"
      ],
      "metadata": {
        "colab": {
          "base_uri": "https://localhost:8080/"
        },
        "id": "4dId0Jw9VRxu",
        "outputId": "5f7d1d99-c0fb-4269-9936-1ac256bf6071"
      },
      "execution_count": 16,
      "outputs": [
        {
          "output_type": "stream",
          "name": "stdout",
          "text": [
            "Unique species: ['setosa' 'versicolor' 'virginica']\n",
            "Species counts:\n",
            " species\n",
            "setosa        50\n",
            "versicolor    50\n",
            "virginica     50\n",
            "Name: count, dtype: int64\n"
          ]
        }
      ]
    },
    {
      "cell_type": "code",
      "source": [
        "# Aggregation functions\n",
        "print(\"Mean Sepal Length:\", iris['sepal_length'].mean())\n",
        "print(\"Total Sepal Area:\", iris['sepal_area'].sum())\n",
        "print(\"Max Petal Length:\", iris['petal_length'].max())"
      ],
      "metadata": {
        "colab": {
          "base_uri": "https://localhost:8080/"
        },
        "id": "A2Dc_tcCVTn2",
        "outputId": "e0d272b8-4fa1-44a2-cc7d-94cf60b4b6a5"
      },
      "execution_count": 17,
      "outputs": [
        {
          "output_type": "stream",
          "name": "stdout",
          "text": [
            "Mean Sepal Length: 5.843333333333334\n",
            "Total Sepal Area: 2673.4299999999994\n",
            "Max Petal Length: 6.9\n"
          ]
        }
      ]
    },
    {
      "cell_type": "markdown",
      "source": [
        "## **Summary**"
      ],
      "metadata": {
        "id": "LIgS4NxaVXp-"
      }
    },
    {
      "cell_type": "markdown",
      "source": [
        "I learned how to use Pandas to handle tabular data effectively.\n",
        "\n",
        "🧠 Key Concepts Covered:\n",
        "- Difference between **Series** and **DataFrame**\n",
        "- How to **inspect**, **filter**, and **modify** a dataset\n",
        "- Used built-in functions to sort, aggregate, and summarize data\n",
        "- Practiced with a real-world dataset (`iris`) and also created dummy data\n",
        "\n",
        "🎯 With this, I now feel confident using Pandas to explore and clean data, which is the first step of every data analytics project.\n"
      ],
      "metadata": {
        "id": "vviREL0DVbSX"
      }
    }
  ]
}