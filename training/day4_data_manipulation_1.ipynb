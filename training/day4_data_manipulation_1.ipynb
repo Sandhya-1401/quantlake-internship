{
  "nbformat": 4,
  "nbformat_minor": 0,
  "metadata": {
    "colab": {
      "provenance": [],
      "collapsed_sections": [
        "Mxsv1H9jhmAU",
        "56ra19HEhq-_",
        "68phsREdh1ZX",
        "HzgkNTOTh2La",
        "_b5rKlTvh361",
        "oZm2r3Mukewp",
        "QeSU1bBIkuMw"
      ]
    },
    "kernelspec": {
      "name": "python3",
      "display_name": "Python 3"
    },
    "language_info": {
      "name": "python"
    }
  },
  "cells": [
    {
      "cell_type": "markdown",
      "source": [
        "# **Day 4 – Pandas: Data Manipulation I**"
      ],
      "metadata": {
        "id": "tDPRnFg4hc6L"
      }
    },
    {
      "cell_type": "markdown",
      "source": [
        "Day 4 of the QuantLake Internship"
      ],
      "metadata": {
        "id": "TbKkX38bhhTC"
      }
    },
    {
      "cell_type": "markdown",
      "source": [
        "## **Objective**"
      ],
      "metadata": {
        "id": "Mxsv1H9jhmAU"
      }
    },
    {
      "cell_type": "markdown",
      "source": [
        "On Day 4, the focus is on mastering essential **data manipulation techniques** in Pandas:  \n",
        "- Accessing and filtering data using `.loc[]` and `.iloc[]`  \n",
        "- Sorting and applying conditions  \n",
        "- Handling missing values  \n",
        "- Grouping and aggregating data  \n",
        "- Merging datasets using joins  \n",
        "\n",
        "These are key operations for any real-world data analysis workflow."
      ],
      "metadata": {
        "id": "wQxNprMolQdd"
      }
    },
    {
      "cell_type": "markdown",
      "source": [
        "## **Section 1: Indexing and Slicing**"
      ],
      "metadata": {
        "id": "56ra19HEhq-_"
      }
    },
    {
      "cell_type": "markdown",
      "source": [
        "In this section, we practice selecting data using `.loc[]` and `.iloc[]`.  \n",
        "These help in accessing specific rows/columns or applying conditional logic."
      ],
      "metadata": {
        "id": "h4iXbkMohvk_"
      }
    },
    {
      "cell_type": "code",
      "source": [
        "import pandas as pd\n",
        "import numpy as np"
      ],
      "metadata": {
        "id": "LW76kCP4iWBO"
      },
      "execution_count": 1,
      "outputs": []
    },
    {
      "cell_type": "code",
      "source": [
        "# Load your dataset\n",
        "df = pd.read_csv('Sample_Superstore.csv', encoding='cp1252')"
      ],
      "metadata": {
        "id": "yFpm-XH6ia4v"
      },
      "execution_count": 7,
      "outputs": []
    },
    {
      "cell_type": "code",
      "source": [
        "df.head()"
      ],
      "metadata": {
        "colab": {
          "base_uri": "https://localhost:8080/",
          "height": 585
        },
        "id": "eLZ24aWsjl0R",
        "outputId": "c653fb93-40c1-47f6-f695-29223eee42b2"
      },
      "execution_count": 8,
      "outputs": [
        {
          "output_type": "execute_result",
          "data": {
            "text/plain": [
              "   Row ID        Order ID  Order Date   Ship Date       Ship Mode Customer ID  \\\n",
              "0       1  CA-2016-152156   11/8/2016  11/11/2016    Second Class    CG-12520   \n",
              "1       2  CA-2016-152156   11/8/2016  11/11/2016    Second Class    CG-12520   \n",
              "2       3  CA-2016-138688   6/12/2016   6/16/2016    Second Class    DV-13045   \n",
              "3       4  US-2015-108966  10/11/2015  10/18/2015  Standard Class    SO-20335   \n",
              "4       5  US-2015-108966  10/11/2015  10/18/2015  Standard Class    SO-20335   \n",
              "\n",
              "     Customer Name    Segment        Country             City  ...  \\\n",
              "0      Claire Gute   Consumer  United States        Henderson  ...   \n",
              "1      Claire Gute   Consumer  United States        Henderson  ...   \n",
              "2  Darrin Van Huff  Corporate  United States      Los Angeles  ...   \n",
              "3   Sean O'Donnell   Consumer  United States  Fort Lauderdale  ...   \n",
              "4   Sean O'Donnell   Consumer  United States  Fort Lauderdale  ...   \n",
              "\n",
              "  Postal Code  Region       Product ID         Category Sub-Category  \\\n",
              "0       42420   South  FUR-BO-10001798        Furniture    Bookcases   \n",
              "1       42420   South  FUR-CH-10000454        Furniture       Chairs   \n",
              "2       90036    West  OFF-LA-10000240  Office Supplies       Labels   \n",
              "3       33311   South  FUR-TA-10000577        Furniture       Tables   \n",
              "4       33311   South  OFF-ST-10000760  Office Supplies      Storage   \n",
              "\n",
              "                                        Product Name     Sales  Quantity  \\\n",
              "0                  Bush Somerset Collection Bookcase  261.9600         2   \n",
              "1  Hon Deluxe Fabric Upholstered Stacking Chairs,...  731.9400         3   \n",
              "2  Self-Adhesive Address Labels for Typewriters b...   14.6200         2   \n",
              "3      Bretford CR4500 Series Slim Rectangular Table  957.5775         5   \n",
              "4                     Eldon Fold 'N Roll Cart System   22.3680         2   \n",
              "\n",
              "   Discount    Profit  \n",
              "0      0.00   41.9136  \n",
              "1      0.00  219.5820  \n",
              "2      0.00    6.8714  \n",
              "3      0.45 -383.0310  \n",
              "4      0.20    2.5164  \n",
              "\n",
              "[5 rows x 21 columns]"
            ],
            "text/html": [
              "\n",
              "  <div id=\"df-8e26212a-350a-474d-a422-e2de2b833c84\" class=\"colab-df-container\">\n",
              "    <div>\n",
              "<style scoped>\n",
              "    .dataframe tbody tr th:only-of-type {\n",
              "        vertical-align: middle;\n",
              "    }\n",
              "\n",
              "    .dataframe tbody tr th {\n",
              "        vertical-align: top;\n",
              "    }\n",
              "\n",
              "    .dataframe thead th {\n",
              "        text-align: right;\n",
              "    }\n",
              "</style>\n",
              "<table border=\"1\" class=\"dataframe\">\n",
              "  <thead>\n",
              "    <tr style=\"text-align: right;\">\n",
              "      <th></th>\n",
              "      <th>Row ID</th>\n",
              "      <th>Order ID</th>\n",
              "      <th>Order Date</th>\n",
              "      <th>Ship Date</th>\n",
              "      <th>Ship Mode</th>\n",
              "      <th>Customer ID</th>\n",
              "      <th>Customer Name</th>\n",
              "      <th>Segment</th>\n",
              "      <th>Country</th>\n",
              "      <th>City</th>\n",
              "      <th>...</th>\n",
              "      <th>Postal Code</th>\n",
              "      <th>Region</th>\n",
              "      <th>Product ID</th>\n",
              "      <th>Category</th>\n",
              "      <th>Sub-Category</th>\n",
              "      <th>Product Name</th>\n",
              "      <th>Sales</th>\n",
              "      <th>Quantity</th>\n",
              "      <th>Discount</th>\n",
              "      <th>Profit</th>\n",
              "    </tr>\n",
              "  </thead>\n",
              "  <tbody>\n",
              "    <tr>\n",
              "      <th>0</th>\n",
              "      <td>1</td>\n",
              "      <td>CA-2016-152156</td>\n",
              "      <td>11/8/2016</td>\n",
              "      <td>11/11/2016</td>\n",
              "      <td>Second Class</td>\n",
              "      <td>CG-12520</td>\n",
              "      <td>Claire Gute</td>\n",
              "      <td>Consumer</td>\n",
              "      <td>United States</td>\n",
              "      <td>Henderson</td>\n",
              "      <td>...</td>\n",
              "      <td>42420</td>\n",
              "      <td>South</td>\n",
              "      <td>FUR-BO-10001798</td>\n",
              "      <td>Furniture</td>\n",
              "      <td>Bookcases</td>\n",
              "      <td>Bush Somerset Collection Bookcase</td>\n",
              "      <td>261.9600</td>\n",
              "      <td>2</td>\n",
              "      <td>0.00</td>\n",
              "      <td>41.9136</td>\n",
              "    </tr>\n",
              "    <tr>\n",
              "      <th>1</th>\n",
              "      <td>2</td>\n",
              "      <td>CA-2016-152156</td>\n",
              "      <td>11/8/2016</td>\n",
              "      <td>11/11/2016</td>\n",
              "      <td>Second Class</td>\n",
              "      <td>CG-12520</td>\n",
              "      <td>Claire Gute</td>\n",
              "      <td>Consumer</td>\n",
              "      <td>United States</td>\n",
              "      <td>Henderson</td>\n",
              "      <td>...</td>\n",
              "      <td>42420</td>\n",
              "      <td>South</td>\n",
              "      <td>FUR-CH-10000454</td>\n",
              "      <td>Furniture</td>\n",
              "      <td>Chairs</td>\n",
              "      <td>Hon Deluxe Fabric Upholstered Stacking Chairs,...</td>\n",
              "      <td>731.9400</td>\n",
              "      <td>3</td>\n",
              "      <td>0.00</td>\n",
              "      <td>219.5820</td>\n",
              "    </tr>\n",
              "    <tr>\n",
              "      <th>2</th>\n",
              "      <td>3</td>\n",
              "      <td>CA-2016-138688</td>\n",
              "      <td>6/12/2016</td>\n",
              "      <td>6/16/2016</td>\n",
              "      <td>Second Class</td>\n",
              "      <td>DV-13045</td>\n",
              "      <td>Darrin Van Huff</td>\n",
              "      <td>Corporate</td>\n",
              "      <td>United States</td>\n",
              "      <td>Los Angeles</td>\n",
              "      <td>...</td>\n",
              "      <td>90036</td>\n",
              "      <td>West</td>\n",
              "      <td>OFF-LA-10000240</td>\n",
              "      <td>Office Supplies</td>\n",
              "      <td>Labels</td>\n",
              "      <td>Self-Adhesive Address Labels for Typewriters b...</td>\n",
              "      <td>14.6200</td>\n",
              "      <td>2</td>\n",
              "      <td>0.00</td>\n",
              "      <td>6.8714</td>\n",
              "    </tr>\n",
              "    <tr>\n",
              "      <th>3</th>\n",
              "      <td>4</td>\n",
              "      <td>US-2015-108966</td>\n",
              "      <td>10/11/2015</td>\n",
              "      <td>10/18/2015</td>\n",
              "      <td>Standard Class</td>\n",
              "      <td>SO-20335</td>\n",
              "      <td>Sean O'Donnell</td>\n",
              "      <td>Consumer</td>\n",
              "      <td>United States</td>\n",
              "      <td>Fort Lauderdale</td>\n",
              "      <td>...</td>\n",
              "      <td>33311</td>\n",
              "      <td>South</td>\n",
              "      <td>FUR-TA-10000577</td>\n",
              "      <td>Furniture</td>\n",
              "      <td>Tables</td>\n",
              "      <td>Bretford CR4500 Series Slim Rectangular Table</td>\n",
              "      <td>957.5775</td>\n",
              "      <td>5</td>\n",
              "      <td>0.45</td>\n",
              "      <td>-383.0310</td>\n",
              "    </tr>\n",
              "    <tr>\n",
              "      <th>4</th>\n",
              "      <td>5</td>\n",
              "      <td>US-2015-108966</td>\n",
              "      <td>10/11/2015</td>\n",
              "      <td>10/18/2015</td>\n",
              "      <td>Standard Class</td>\n",
              "      <td>SO-20335</td>\n",
              "      <td>Sean O'Donnell</td>\n",
              "      <td>Consumer</td>\n",
              "      <td>United States</td>\n",
              "      <td>Fort Lauderdale</td>\n",
              "      <td>...</td>\n",
              "      <td>33311</td>\n",
              "      <td>South</td>\n",
              "      <td>OFF-ST-10000760</td>\n",
              "      <td>Office Supplies</td>\n",
              "      <td>Storage</td>\n",
              "      <td>Eldon Fold 'N Roll Cart System</td>\n",
              "      <td>22.3680</td>\n",
              "      <td>2</td>\n",
              "      <td>0.20</td>\n",
              "      <td>2.5164</td>\n",
              "    </tr>\n",
              "  </tbody>\n",
              "</table>\n",
              "<p>5 rows × 21 columns</p>\n",
              "</div>\n",
              "    <div class=\"colab-df-buttons\">\n",
              "\n",
              "  <div class=\"colab-df-container\">\n",
              "    <button class=\"colab-df-convert\" onclick=\"convertToInteractive('df-8e26212a-350a-474d-a422-e2de2b833c84')\"\n",
              "            title=\"Convert this dataframe to an interactive table.\"\n",
              "            style=\"display:none;\">\n",
              "\n",
              "  <svg xmlns=\"http://www.w3.org/2000/svg\" height=\"24px\" viewBox=\"0 -960 960 960\">\n",
              "    <path d=\"M120-120v-720h720v720H120Zm60-500h600v-160H180v160Zm220 220h160v-160H400v160Zm0 220h160v-160H400v160ZM180-400h160v-160H180v160Zm440 0h160v-160H620v160ZM180-180h160v-160H180v160Zm440 0h160v-160H620v160Z\"/>\n",
              "  </svg>\n",
              "    </button>\n",
              "\n",
              "  <style>\n",
              "    .colab-df-container {\n",
              "      display:flex;\n",
              "      gap: 12px;\n",
              "    }\n",
              "\n",
              "    .colab-df-convert {\n",
              "      background-color: #E8F0FE;\n",
              "      border: none;\n",
              "      border-radius: 50%;\n",
              "      cursor: pointer;\n",
              "      display: none;\n",
              "      fill: #1967D2;\n",
              "      height: 32px;\n",
              "      padding: 0 0 0 0;\n",
              "      width: 32px;\n",
              "    }\n",
              "\n",
              "    .colab-df-convert:hover {\n",
              "      background-color: #E2EBFA;\n",
              "      box-shadow: 0px 1px 2px rgba(60, 64, 67, 0.3), 0px 1px 3px 1px rgba(60, 64, 67, 0.15);\n",
              "      fill: #174EA6;\n",
              "    }\n",
              "\n",
              "    .colab-df-buttons div {\n",
              "      margin-bottom: 4px;\n",
              "    }\n",
              "\n",
              "    [theme=dark] .colab-df-convert {\n",
              "      background-color: #3B4455;\n",
              "      fill: #D2E3FC;\n",
              "    }\n",
              "\n",
              "    [theme=dark] .colab-df-convert:hover {\n",
              "      background-color: #434B5C;\n",
              "      box-shadow: 0px 1px 3px 1px rgba(0, 0, 0, 0.15);\n",
              "      filter: drop-shadow(0px 1px 2px rgba(0, 0, 0, 0.3));\n",
              "      fill: #FFFFFF;\n",
              "    }\n",
              "  </style>\n",
              "\n",
              "    <script>\n",
              "      const buttonEl =\n",
              "        document.querySelector('#df-8e26212a-350a-474d-a422-e2de2b833c84 button.colab-df-convert');\n",
              "      buttonEl.style.display =\n",
              "        google.colab.kernel.accessAllowed ? 'block' : 'none';\n",
              "\n",
              "      async function convertToInteractive(key) {\n",
              "        const element = document.querySelector('#df-8e26212a-350a-474d-a422-e2de2b833c84');\n",
              "        const dataTable =\n",
              "          await google.colab.kernel.invokeFunction('convertToInteractive',\n",
              "                                                    [key], {});\n",
              "        if (!dataTable) return;\n",
              "\n",
              "        const docLinkHtml = 'Like what you see? Visit the ' +\n",
              "          '<a target=\"_blank\" href=https://colab.research.google.com/notebooks/data_table.ipynb>data table notebook</a>'\n",
              "          + ' to learn more about interactive tables.';\n",
              "        element.innerHTML = '';\n",
              "        dataTable['output_type'] = 'display_data';\n",
              "        await google.colab.output.renderOutput(dataTable, element);\n",
              "        const docLink = document.createElement('div');\n",
              "        docLink.innerHTML = docLinkHtml;\n",
              "        element.appendChild(docLink);\n",
              "      }\n",
              "    </script>\n",
              "  </div>\n",
              "\n",
              "\n",
              "    <div id=\"df-0ac6443e-c39c-405e-bf09-320780fb1b11\">\n",
              "      <button class=\"colab-df-quickchart\" onclick=\"quickchart('df-0ac6443e-c39c-405e-bf09-320780fb1b11')\"\n",
              "                title=\"Suggest charts\"\n",
              "                style=\"display:none;\">\n",
              "\n",
              "<svg xmlns=\"http://www.w3.org/2000/svg\" height=\"24px\"viewBox=\"0 0 24 24\"\n",
              "     width=\"24px\">\n",
              "    <g>\n",
              "        <path d=\"M19 3H5c-1.1 0-2 .9-2 2v14c0 1.1.9 2 2 2h14c1.1 0 2-.9 2-2V5c0-1.1-.9-2-2-2zM9 17H7v-7h2v7zm4 0h-2V7h2v10zm4 0h-2v-4h2v4z\"/>\n",
              "    </g>\n",
              "</svg>\n",
              "      </button>\n",
              "\n",
              "<style>\n",
              "  .colab-df-quickchart {\n",
              "      --bg-color: #E8F0FE;\n",
              "      --fill-color: #1967D2;\n",
              "      --hover-bg-color: #E2EBFA;\n",
              "      --hover-fill-color: #174EA6;\n",
              "      --disabled-fill-color: #AAA;\n",
              "      --disabled-bg-color: #DDD;\n",
              "  }\n",
              "\n",
              "  [theme=dark] .colab-df-quickchart {\n",
              "      --bg-color: #3B4455;\n",
              "      --fill-color: #D2E3FC;\n",
              "      --hover-bg-color: #434B5C;\n",
              "      --hover-fill-color: #FFFFFF;\n",
              "      --disabled-bg-color: #3B4455;\n",
              "      --disabled-fill-color: #666;\n",
              "  }\n",
              "\n",
              "  .colab-df-quickchart {\n",
              "    background-color: var(--bg-color);\n",
              "    border: none;\n",
              "    border-radius: 50%;\n",
              "    cursor: pointer;\n",
              "    display: none;\n",
              "    fill: var(--fill-color);\n",
              "    height: 32px;\n",
              "    padding: 0;\n",
              "    width: 32px;\n",
              "  }\n",
              "\n",
              "  .colab-df-quickchart:hover {\n",
              "    background-color: var(--hover-bg-color);\n",
              "    box-shadow: 0 1px 2px rgba(60, 64, 67, 0.3), 0 1px 3px 1px rgba(60, 64, 67, 0.15);\n",
              "    fill: var(--button-hover-fill-color);\n",
              "  }\n",
              "\n",
              "  .colab-df-quickchart-complete:disabled,\n",
              "  .colab-df-quickchart-complete:disabled:hover {\n",
              "    background-color: var(--disabled-bg-color);\n",
              "    fill: var(--disabled-fill-color);\n",
              "    box-shadow: none;\n",
              "  }\n",
              "\n",
              "  .colab-df-spinner {\n",
              "    border: 2px solid var(--fill-color);\n",
              "    border-color: transparent;\n",
              "    border-bottom-color: var(--fill-color);\n",
              "    animation:\n",
              "      spin 1s steps(1) infinite;\n",
              "  }\n",
              "\n",
              "  @keyframes spin {\n",
              "    0% {\n",
              "      border-color: transparent;\n",
              "      border-bottom-color: var(--fill-color);\n",
              "      border-left-color: var(--fill-color);\n",
              "    }\n",
              "    20% {\n",
              "      border-color: transparent;\n",
              "      border-left-color: var(--fill-color);\n",
              "      border-top-color: var(--fill-color);\n",
              "    }\n",
              "    30% {\n",
              "      border-color: transparent;\n",
              "      border-left-color: var(--fill-color);\n",
              "      border-top-color: var(--fill-color);\n",
              "      border-right-color: var(--fill-color);\n",
              "    }\n",
              "    40% {\n",
              "      border-color: transparent;\n",
              "      border-right-color: var(--fill-color);\n",
              "      border-top-color: var(--fill-color);\n",
              "    }\n",
              "    60% {\n",
              "      border-color: transparent;\n",
              "      border-right-color: var(--fill-color);\n",
              "    }\n",
              "    80% {\n",
              "      border-color: transparent;\n",
              "      border-right-color: var(--fill-color);\n",
              "      border-bottom-color: var(--fill-color);\n",
              "    }\n",
              "    90% {\n",
              "      border-color: transparent;\n",
              "      border-bottom-color: var(--fill-color);\n",
              "    }\n",
              "  }\n",
              "</style>\n",
              "\n",
              "      <script>\n",
              "        async function quickchart(key) {\n",
              "          const quickchartButtonEl =\n",
              "            document.querySelector('#' + key + ' button');\n",
              "          quickchartButtonEl.disabled = true;  // To prevent multiple clicks.\n",
              "          quickchartButtonEl.classList.add('colab-df-spinner');\n",
              "          try {\n",
              "            const charts = await google.colab.kernel.invokeFunction(\n",
              "                'suggestCharts', [key], {});\n",
              "          } catch (error) {\n",
              "            console.error('Error during call to suggestCharts:', error);\n",
              "          }\n",
              "          quickchartButtonEl.classList.remove('colab-df-spinner');\n",
              "          quickchartButtonEl.classList.add('colab-df-quickchart-complete');\n",
              "        }\n",
              "        (() => {\n",
              "          let quickchartButtonEl =\n",
              "            document.querySelector('#df-0ac6443e-c39c-405e-bf09-320780fb1b11 button');\n",
              "          quickchartButtonEl.style.display =\n",
              "            google.colab.kernel.accessAllowed ? 'block' : 'none';\n",
              "        })();\n",
              "      </script>\n",
              "    </div>\n",
              "\n",
              "    </div>\n",
              "  </div>\n"
            ],
            "application/vnd.google.colaboratory.intrinsic+json": {
              "type": "dataframe",
              "variable_name": "df"
            }
          },
          "metadata": {},
          "execution_count": 8
        }
      ]
    },
    {
      "cell_type": "code",
      "source": [
        "# Using loc to select specific row and column\n",
        "print(df.loc[0, 'City'])"
      ],
      "metadata": {
        "colab": {
          "base_uri": "https://localhost:8080/"
        },
        "id": "bbOs3GHAjqkF",
        "outputId": "452a4402-99ff-4a75-ba6e-496529bfa9b5"
      },
      "execution_count": 9,
      "outputs": [
        {
          "output_type": "stream",
          "name": "stdout",
          "text": [
            "Henderson\n"
          ]
        }
      ]
    },
    {
      "cell_type": "code",
      "source": [
        "# Selecting multiple rows and columns\n",
        "print(df.loc[0:5, ['City', 'Sales', 'Profit']])"
      ],
      "metadata": {
        "colab": {
          "base_uri": "https://localhost:8080/"
        },
        "id": "Db07SAfzjumC",
        "outputId": "f23d05d3-9122-4578-ecc1-2fe4346c582b"
      },
      "execution_count": 10,
      "outputs": [
        {
          "output_type": "stream",
          "name": "stdout",
          "text": [
            "              City     Sales    Profit\n",
            "0        Henderson  261.9600   41.9136\n",
            "1        Henderson  731.9400  219.5820\n",
            "2      Los Angeles   14.6200    6.8714\n",
            "3  Fort Lauderdale  957.5775 -383.0310\n",
            "4  Fort Lauderdale   22.3680    2.5164\n",
            "5      Los Angeles   48.8600   14.1694\n"
          ]
        }
      ]
    },
    {
      "cell_type": "code",
      "source": [
        "# Using iloc for positional indexing\n",
        "print(df.iloc[0:3, 0:4])"
      ],
      "metadata": {
        "colab": {
          "base_uri": "https://localhost:8080/"
        },
        "id": "rqto-D4_jwu8",
        "outputId": "3447e73a-db74-4db5-c7d2-ef5d1da4fce7"
      },
      "execution_count": 11,
      "outputs": [
        {
          "output_type": "stream",
          "name": "stdout",
          "text": [
            "   Row ID        Order ID Order Date   Ship Date\n",
            "0       1  CA-2016-152156  11/8/2016  11/11/2016\n",
            "1       2  CA-2016-152156  11/8/2016  11/11/2016\n",
            "2       3  CA-2016-138688  6/12/2016   6/16/2016\n"
          ]
        }
      ]
    },
    {
      "cell_type": "code",
      "source": [
        "# Conditional selection\n",
        "print(df[df['Sales'] > 500])"
      ],
      "metadata": {
        "colab": {
          "base_uri": "https://localhost:8080/"
        },
        "id": "Af_FgeXZjy4j",
        "outputId": "25e7f8e2-7ac1-4359-a76c-ef78641b613d"
      },
      "execution_count": 12,
      "outputs": [
        {
          "output_type": "stream",
          "name": "stdout",
          "text": [
            "      Row ID        Order ID  Order Date   Ship Date       Ship Mode  \\\n",
            "1          2  CA-2016-152156   11/8/2016  11/11/2016    Second Class   \n",
            "3          4  US-2015-108966  10/11/2015  10/18/2015  Standard Class   \n",
            "7          8  CA-2014-115812    6/9/2014   6/14/2014  Standard Class   \n",
            "10        11  CA-2014-115812    6/9/2014   6/14/2014  Standard Class   \n",
            "11        12  CA-2014-115812    6/9/2014   6/14/2014  Standard Class   \n",
            "...      ...             ...         ...         ...             ...   \n",
            "9931    9932  CA-2015-104948  11/13/2015  11/17/2015  Standard Class   \n",
            "9942    9943  CA-2014-143371  12/28/2014    1/3/2015  Standard Class   \n",
            "9947    9948  CA-2017-121559    6/1/2017    6/3/2017    Second Class   \n",
            "9948    9949  CA-2017-121559    6/1/2017    6/3/2017    Second Class   \n",
            "9968    9969  CA-2017-153871  12/11/2017  12/17/2017  Standard Class   \n",
            "\n",
            "     Customer ID    Customer Name    Segment        Country             City  \\\n",
            "1       CG-12520      Claire Gute   Consumer  United States        Henderson   \n",
            "3       SO-20335   Sean O'Donnell   Consumer  United States  Fort Lauderdale   \n",
            "7       BH-11710  Brosina Hoffman   Consumer  United States      Los Angeles   \n",
            "10      BH-11710  Brosina Hoffman   Consumer  United States      Los Angeles   \n",
            "11      BH-11710  Brosina Hoffman   Consumer  United States      Los Angeles   \n",
            "...          ...              ...        ...            ...              ...   \n",
            "9931    KH-16510    Keith Herrera   Consumer  United States   San Bernardino   \n",
            "9942    MD-17350    Maribeth Dona   Consumer  United States          Anaheim   \n",
            "9947    HW-14935  Helen Wasserman  Corporate  United States     Indianapolis   \n",
            "9948    HW-14935  Helen Wasserman  Corporate  United States     Indianapolis   \n",
            "9968    RB-19435  Richard Bierner   Consumer  United States       Plainfield   \n",
            "\n",
            "      ... Postal Code   Region       Product ID         Category Sub-Category  \\\n",
            "1     ...       42420    South  FUR-CH-10000454        Furniture       Chairs   \n",
            "3     ...       33311    South  FUR-TA-10000577        Furniture       Tables   \n",
            "7     ...       90032     West  TEC-PH-10002275       Technology       Phones   \n",
            "10    ...       90032     West  FUR-TA-10001539        Furniture       Tables   \n",
            "11    ...       90032     West  TEC-PH-10002033       Technology       Phones   \n",
            "...   ...         ...      ...              ...              ...          ...   \n",
            "9931  ...       92404     West  FUR-BO-10004357        Furniture    Bookcases   \n",
            "9942  ...       92804     West  OFF-ST-10001128  Office Supplies      Storage   \n",
            "9947  ...       46203  Central  FUR-CH-10003746        Furniture       Chairs   \n",
            "9948  ...       46203  Central  OFF-AP-10002945  Office Supplies   Appliances   \n",
            "9968  ...        7060     East  OFF-BI-10004600  Office Supplies      Binders   \n",
            "\n",
            "                                           Product Name      Sales  Quantity  \\\n",
            "1     Hon Deluxe Fabric Upholstered Stacking Chairs,...   731.9400         3   \n",
            "3         Bretford CR4500 Series Slim Rectangular Table   957.5775         5   \n",
            "7                        Mitel 5320 IP Phone VoIP phone   907.1520         6   \n",
            "10             Chromcraft Rectangular Conference Tables  1706.1840         9   \n",
            "11        Konftel 250 Conference phone - Charcoal black   911.4240         4   \n",
            "...                                                 ...        ...       ...   \n",
            "9931     O'Sullivan Living Dimensions 3-Shelf Bookcases   683.3320         4   \n",
            "9942        Carina Mini System Audio Rack, Model AR050B   998.8200         9   \n",
            "9947  Hon 4070 Series Pagoda Round Back Stacking Chairs  1925.8800         6   \n",
            "9948  Honeywell Enviracaire Portable HEPA Air Cleane...  2405.2000         8   \n",
            "9968          Ibico Ibimaster 300 Manual Binding System   735.9800         2   \n",
            "\n",
            "      Discount    Profit  \n",
            "1         0.00  219.5820  \n",
            "3         0.45 -383.0310  \n",
            "7         0.20   90.7152  \n",
            "10        0.20   85.3092  \n",
            "11        0.20   68.3568  \n",
            "...        ...       ...  \n",
            "9931      0.15  -40.1960  \n",
            "9942      0.00   29.9646  \n",
            "9947      0.00  539.2464  \n",
            "9948      0.00  793.7160  \n",
            "9968      0.00  331.1910  \n",
            "\n",
            "[1162 rows x 21 columns]\n"
          ]
        }
      ]
    },
    {
      "cell_type": "markdown",
      "source": [
        "## **Section 2: Filtering and Sorting**"
      ],
      "metadata": {
        "id": "68phsREdh1ZX"
      }
    },
    {
      "cell_type": "markdown",
      "source": [
        "We now filter data based on conditions and sort it using `sort_values()`."
      ],
      "metadata": {
        "id": "tV6DbIa_iTbJ"
      }
    },
    {
      "cell_type": "code",
      "source": [
        "# Filter rows where Sales > 1000\n",
        "high_sales = df[df['Sales'] > 1000]\n",
        "print(high_sales.head())"
      ],
      "metadata": {
        "colab": {
          "base_uri": "https://localhost:8080/"
        },
        "id": "-fXAKLxtj3kZ",
        "outputId": "524daf9d-53ef-44ca-80e0-b9672f53a989"
      },
      "execution_count": 13,
      "outputs": [
        {
          "output_type": "stream",
          "name": "stdout",
          "text": [
            "    Row ID        Order ID  Order Date   Ship Date       Ship Mode  \\\n",
            "10      11  CA-2014-115812    6/9/2014   6/14/2014  Standard Class   \n",
            "24      25  CA-2015-106320   9/25/2015   9/30/2015  Standard Class   \n",
            "27      28  US-2015-150630   9/17/2015   9/21/2015  Standard Class   \n",
            "35      36  CA-2016-117590   12/8/2016  12/10/2016     First Class   \n",
            "54      55  CA-2016-105816  12/11/2016  12/17/2016  Standard Class   \n",
            "\n",
            "   Customer ID    Customer Name    Segment        Country           City  ...  \\\n",
            "10    BH-11710  Brosina Hoffman   Consumer  United States    Los Angeles  ...   \n",
            "24    EB-13870      Emily Burns   Consumer  United States           Orem  ...   \n",
            "27    TB-21520  Tracy Blumstein   Consumer  United States   Philadelphia  ...   \n",
            "35    GH-14485        Gene Hale  Corporate  United States     Richardson  ...   \n",
            "54    JM-15265   Janet Molinari  Corporate  United States  New York City  ...   \n",
            "\n",
            "   Postal Code   Region       Product ID    Category Sub-Category  \\\n",
            "10       90032     West  FUR-TA-10001539   Furniture       Tables   \n",
            "24       84057     West  FUR-TA-10000577   Furniture       Tables   \n",
            "27       19140     East  FUR-BO-10004834   Furniture    Bookcases   \n",
            "35       75080  Central  TEC-PH-10004977  Technology       Phones   \n",
            "54       10024     East  TEC-PH-10002447  Technology       Phones   \n",
            "\n",
            "                                         Product Name     Sales  Quantity  \\\n",
            "10           Chromcraft Rectangular Conference Tables  1706.184         9   \n",
            "24      Bretford CR4500 Series Slim Rectangular Table  1044.630         3   \n",
            "27  Riverside Palais Royal Lawyers Bookcase, Royal...  3083.430         7   \n",
            "35                                        GE 30524EE4  1097.544         7   \n",
            "54                   AT&T CL83451 4-Handset Telephone  1029.950         5   \n",
            "\n",
            "    Discount     Profit  \n",
            "10       0.2    85.3092  \n",
            "24       0.0   240.2649  \n",
            "27       0.5 -1665.0522  \n",
            "35       0.2   123.4737  \n",
            "54       0.0   298.6855  \n",
            "\n",
            "[5 rows x 21 columns]\n"
          ]
        }
      ]
    },
    {
      "cell_type": "code",
      "source": [
        "# Filter with multiple conditions\n",
        "tech_discounted = df[(df['Category'] == 'Technology') & (df['Discount'] > 0.2)]\n",
        "print(tech_discounted.head())"
      ],
      "metadata": {
        "colab": {
          "base_uri": "https://localhost:8080/"
        },
        "id": "bxVgcayzj8jX",
        "outputId": "91106b12-b4e5-4329-ab64-8089129600d4"
      },
      "execution_count": 14,
      "outputs": [
        {
          "output_type": "stream",
          "name": "stdout",
          "text": [
            "     Row ID        Order ID  Order Date   Ship Date       Ship Mode  \\\n",
            "130     131  US-2017-164147    2/2/2017    2/5/2017     First Class   \n",
            "165     166  CA-2014-139892    9/8/2014   9/12/2014  Standard Class   \n",
            "214     215  CA-2015-146262    1/2/2015    1/9/2015  Standard Class   \n",
            "215     216  CA-2015-146262    1/2/2015    1/9/2015  Standard Class   \n",
            "223     224  CA-2015-169397  12/24/2015  12/27/2015     First Class   \n",
            "\n",
            "    Customer ID    Customer Name    Segment        Country         City  ...  \\\n",
            "130    DW-13585   Dorothy Wardle  Corporate  United States     Columbus  ...   \n",
            "165    BM-11140     Becky Martin   Consumer  United States  San Antonio  ...   \n",
            "214    VW-21775  Victoria Wilson  Corporate  United States       Medina  ...   \n",
            "215    VW-21775  Victoria Wilson  Corporate  United States       Medina  ...   \n",
            "223    JB-15925   Joni Blumstein   Consumer  United States       Dublin  ...   \n",
            "\n",
            "    Postal Code   Region       Product ID    Category Sub-Category  \\\n",
            "130       43229     East  TEC-PH-10002293  Technology       Phones   \n",
            "165       78207  Central  TEC-MA-10000822  Technology     Machines   \n",
            "214       44256     East  TEC-PH-10002844  Technology       Phones   \n",
            "215       44256     East  TEC-MA-10000864  Technology     Machines   \n",
            "223       43017     East  TEC-MA-10001148  Technology     Machines   \n",
            "\n",
            "                                          Product Name     Sales  Quantity  \\\n",
            "130  Anker 36W 4-Port USB Wall Charger Travel Power...    59.970         5   \n",
            "165          Lexmark MX611dhe Monochrome Laser Printer  8159.952         8   \n",
            "214                Speck Products Candyshell Flip Case    62.982         3   \n",
            "215                 Cisco 9971 IP Video Phone Charcoal  1188.000         9   \n",
            "223       Swingline SM12-08 MicroCut Jam Free Shredder   479.988         4   \n",
            "\n",
            "     Discount     Profit  \n",
            "130       0.4   -11.9940  \n",
            "165       0.4 -1359.9920  \n",
            "214       0.4   -14.6958  \n",
            "215       0.7  -950.4000  \n",
            "223       0.7  -383.9904  \n",
            "\n",
            "[5 rows x 21 columns]\n"
          ]
        }
      ]
    },
    {
      "cell_type": "code",
      "source": [
        "# Sort by Profit\n",
        "df_sorted_profit = df.sort_values('Profit', ascending=False)\n",
        "df_sorted_profit[['Product Name', 'Profit']].head()"
      ],
      "metadata": {
        "colab": {
          "base_uri": "https://localhost:8080/",
          "height": 206
        },
        "id": "111pOcomj_oC",
        "outputId": "34d880bd-4322-4675-b1be-45eb51234c7a"
      },
      "execution_count": 15,
      "outputs": [
        {
          "output_type": "execute_result",
          "data": {
            "text/plain": [
              "                                          Product Name     Profit\n",
              "6826             Canon imageCLASS 2200 Advanced Copier  8399.9760\n",
              "8153             Canon imageCLASS 2200 Advanced Copier  6719.9808\n",
              "4190             Canon imageCLASS 2200 Advanced Copier  5039.9856\n",
              "9039  GBC Ibimaster 500 Manual ProClick Binding System  4946.3700\n",
              "4098              Ibico EPK-21 Electric Binding System  4630.4755"
            ],
            "text/html": [
              "\n",
              "  <div id=\"df-2593b3c5-c751-4e53-b167-b5fa4ec53c61\" class=\"colab-df-container\">\n",
              "    <div>\n",
              "<style scoped>\n",
              "    .dataframe tbody tr th:only-of-type {\n",
              "        vertical-align: middle;\n",
              "    }\n",
              "\n",
              "    .dataframe tbody tr th {\n",
              "        vertical-align: top;\n",
              "    }\n",
              "\n",
              "    .dataframe thead th {\n",
              "        text-align: right;\n",
              "    }\n",
              "</style>\n",
              "<table border=\"1\" class=\"dataframe\">\n",
              "  <thead>\n",
              "    <tr style=\"text-align: right;\">\n",
              "      <th></th>\n",
              "      <th>Product Name</th>\n",
              "      <th>Profit</th>\n",
              "    </tr>\n",
              "  </thead>\n",
              "  <tbody>\n",
              "    <tr>\n",
              "      <th>6826</th>\n",
              "      <td>Canon imageCLASS 2200 Advanced Copier</td>\n",
              "      <td>8399.9760</td>\n",
              "    </tr>\n",
              "    <tr>\n",
              "      <th>8153</th>\n",
              "      <td>Canon imageCLASS 2200 Advanced Copier</td>\n",
              "      <td>6719.9808</td>\n",
              "    </tr>\n",
              "    <tr>\n",
              "      <th>4190</th>\n",
              "      <td>Canon imageCLASS 2200 Advanced Copier</td>\n",
              "      <td>5039.9856</td>\n",
              "    </tr>\n",
              "    <tr>\n",
              "      <th>9039</th>\n",
              "      <td>GBC Ibimaster 500 Manual ProClick Binding System</td>\n",
              "      <td>4946.3700</td>\n",
              "    </tr>\n",
              "    <tr>\n",
              "      <th>4098</th>\n",
              "      <td>Ibico EPK-21 Electric Binding System</td>\n",
              "      <td>4630.4755</td>\n",
              "    </tr>\n",
              "  </tbody>\n",
              "</table>\n",
              "</div>\n",
              "    <div class=\"colab-df-buttons\">\n",
              "\n",
              "  <div class=\"colab-df-container\">\n",
              "    <button class=\"colab-df-convert\" onclick=\"convertToInteractive('df-2593b3c5-c751-4e53-b167-b5fa4ec53c61')\"\n",
              "            title=\"Convert this dataframe to an interactive table.\"\n",
              "            style=\"display:none;\">\n",
              "\n",
              "  <svg xmlns=\"http://www.w3.org/2000/svg\" height=\"24px\" viewBox=\"0 -960 960 960\">\n",
              "    <path d=\"M120-120v-720h720v720H120Zm60-500h600v-160H180v160Zm220 220h160v-160H400v160Zm0 220h160v-160H400v160ZM180-400h160v-160H180v160Zm440 0h160v-160H620v160ZM180-180h160v-160H180v160Zm440 0h160v-160H620v160Z\"/>\n",
              "  </svg>\n",
              "    </button>\n",
              "\n",
              "  <style>\n",
              "    .colab-df-container {\n",
              "      display:flex;\n",
              "      gap: 12px;\n",
              "    }\n",
              "\n",
              "    .colab-df-convert {\n",
              "      background-color: #E8F0FE;\n",
              "      border: none;\n",
              "      border-radius: 50%;\n",
              "      cursor: pointer;\n",
              "      display: none;\n",
              "      fill: #1967D2;\n",
              "      height: 32px;\n",
              "      padding: 0 0 0 0;\n",
              "      width: 32px;\n",
              "    }\n",
              "\n",
              "    .colab-df-convert:hover {\n",
              "      background-color: #E2EBFA;\n",
              "      box-shadow: 0px 1px 2px rgba(60, 64, 67, 0.3), 0px 1px 3px 1px rgba(60, 64, 67, 0.15);\n",
              "      fill: #174EA6;\n",
              "    }\n",
              "\n",
              "    .colab-df-buttons div {\n",
              "      margin-bottom: 4px;\n",
              "    }\n",
              "\n",
              "    [theme=dark] .colab-df-convert {\n",
              "      background-color: #3B4455;\n",
              "      fill: #D2E3FC;\n",
              "    }\n",
              "\n",
              "    [theme=dark] .colab-df-convert:hover {\n",
              "      background-color: #434B5C;\n",
              "      box-shadow: 0px 1px 3px 1px rgba(0, 0, 0, 0.15);\n",
              "      filter: drop-shadow(0px 1px 2px rgba(0, 0, 0, 0.3));\n",
              "      fill: #FFFFFF;\n",
              "    }\n",
              "  </style>\n",
              "\n",
              "    <script>\n",
              "      const buttonEl =\n",
              "        document.querySelector('#df-2593b3c5-c751-4e53-b167-b5fa4ec53c61 button.colab-df-convert');\n",
              "      buttonEl.style.display =\n",
              "        google.colab.kernel.accessAllowed ? 'block' : 'none';\n",
              "\n",
              "      async function convertToInteractive(key) {\n",
              "        const element = document.querySelector('#df-2593b3c5-c751-4e53-b167-b5fa4ec53c61');\n",
              "        const dataTable =\n",
              "          await google.colab.kernel.invokeFunction('convertToInteractive',\n",
              "                                                    [key], {});\n",
              "        if (!dataTable) return;\n",
              "\n",
              "        const docLinkHtml = 'Like what you see? Visit the ' +\n",
              "          '<a target=\"_blank\" href=https://colab.research.google.com/notebooks/data_table.ipynb>data table notebook</a>'\n",
              "          + ' to learn more about interactive tables.';\n",
              "        element.innerHTML = '';\n",
              "        dataTable['output_type'] = 'display_data';\n",
              "        await google.colab.output.renderOutput(dataTable, element);\n",
              "        const docLink = document.createElement('div');\n",
              "        docLink.innerHTML = docLinkHtml;\n",
              "        element.appendChild(docLink);\n",
              "      }\n",
              "    </script>\n",
              "  </div>\n",
              "\n",
              "\n",
              "    <div id=\"df-ceb791f5-08eb-48b3-bd10-fafe80e35a02\">\n",
              "      <button class=\"colab-df-quickchart\" onclick=\"quickchart('df-ceb791f5-08eb-48b3-bd10-fafe80e35a02')\"\n",
              "                title=\"Suggest charts\"\n",
              "                style=\"display:none;\">\n",
              "\n",
              "<svg xmlns=\"http://www.w3.org/2000/svg\" height=\"24px\"viewBox=\"0 0 24 24\"\n",
              "     width=\"24px\">\n",
              "    <g>\n",
              "        <path d=\"M19 3H5c-1.1 0-2 .9-2 2v14c0 1.1.9 2 2 2h14c1.1 0 2-.9 2-2V5c0-1.1-.9-2-2-2zM9 17H7v-7h2v7zm4 0h-2V7h2v10zm4 0h-2v-4h2v4z\"/>\n",
              "    </g>\n",
              "</svg>\n",
              "      </button>\n",
              "\n",
              "<style>\n",
              "  .colab-df-quickchart {\n",
              "      --bg-color: #E8F0FE;\n",
              "      --fill-color: #1967D2;\n",
              "      --hover-bg-color: #E2EBFA;\n",
              "      --hover-fill-color: #174EA6;\n",
              "      --disabled-fill-color: #AAA;\n",
              "      --disabled-bg-color: #DDD;\n",
              "  }\n",
              "\n",
              "  [theme=dark] .colab-df-quickchart {\n",
              "      --bg-color: #3B4455;\n",
              "      --fill-color: #D2E3FC;\n",
              "      --hover-bg-color: #434B5C;\n",
              "      --hover-fill-color: #FFFFFF;\n",
              "      --disabled-bg-color: #3B4455;\n",
              "      --disabled-fill-color: #666;\n",
              "  }\n",
              "\n",
              "  .colab-df-quickchart {\n",
              "    background-color: var(--bg-color);\n",
              "    border: none;\n",
              "    border-radius: 50%;\n",
              "    cursor: pointer;\n",
              "    display: none;\n",
              "    fill: var(--fill-color);\n",
              "    height: 32px;\n",
              "    padding: 0;\n",
              "    width: 32px;\n",
              "  }\n",
              "\n",
              "  .colab-df-quickchart:hover {\n",
              "    background-color: var(--hover-bg-color);\n",
              "    box-shadow: 0 1px 2px rgba(60, 64, 67, 0.3), 0 1px 3px 1px rgba(60, 64, 67, 0.15);\n",
              "    fill: var(--button-hover-fill-color);\n",
              "  }\n",
              "\n",
              "  .colab-df-quickchart-complete:disabled,\n",
              "  .colab-df-quickchart-complete:disabled:hover {\n",
              "    background-color: var(--disabled-bg-color);\n",
              "    fill: var(--disabled-fill-color);\n",
              "    box-shadow: none;\n",
              "  }\n",
              "\n",
              "  .colab-df-spinner {\n",
              "    border: 2px solid var(--fill-color);\n",
              "    border-color: transparent;\n",
              "    border-bottom-color: var(--fill-color);\n",
              "    animation:\n",
              "      spin 1s steps(1) infinite;\n",
              "  }\n",
              "\n",
              "  @keyframes spin {\n",
              "    0% {\n",
              "      border-color: transparent;\n",
              "      border-bottom-color: var(--fill-color);\n",
              "      border-left-color: var(--fill-color);\n",
              "    }\n",
              "    20% {\n",
              "      border-color: transparent;\n",
              "      border-left-color: var(--fill-color);\n",
              "      border-top-color: var(--fill-color);\n",
              "    }\n",
              "    30% {\n",
              "      border-color: transparent;\n",
              "      border-left-color: var(--fill-color);\n",
              "      border-top-color: var(--fill-color);\n",
              "      border-right-color: var(--fill-color);\n",
              "    }\n",
              "    40% {\n",
              "      border-color: transparent;\n",
              "      border-right-color: var(--fill-color);\n",
              "      border-top-color: var(--fill-color);\n",
              "    }\n",
              "    60% {\n",
              "      border-color: transparent;\n",
              "      border-right-color: var(--fill-color);\n",
              "    }\n",
              "    80% {\n",
              "      border-color: transparent;\n",
              "      border-right-color: var(--fill-color);\n",
              "      border-bottom-color: var(--fill-color);\n",
              "    }\n",
              "    90% {\n",
              "      border-color: transparent;\n",
              "      border-bottom-color: var(--fill-color);\n",
              "    }\n",
              "  }\n",
              "</style>\n",
              "\n",
              "      <script>\n",
              "        async function quickchart(key) {\n",
              "          const quickchartButtonEl =\n",
              "            document.querySelector('#' + key + ' button');\n",
              "          quickchartButtonEl.disabled = true;  // To prevent multiple clicks.\n",
              "          quickchartButtonEl.classList.add('colab-df-spinner');\n",
              "          try {\n",
              "            const charts = await google.colab.kernel.invokeFunction(\n",
              "                'suggestCharts', [key], {});\n",
              "          } catch (error) {\n",
              "            console.error('Error during call to suggestCharts:', error);\n",
              "          }\n",
              "          quickchartButtonEl.classList.remove('colab-df-spinner');\n",
              "          quickchartButtonEl.classList.add('colab-df-quickchart-complete');\n",
              "        }\n",
              "        (() => {\n",
              "          let quickchartButtonEl =\n",
              "            document.querySelector('#df-ceb791f5-08eb-48b3-bd10-fafe80e35a02 button');\n",
              "          quickchartButtonEl.style.display =\n",
              "            google.colab.kernel.accessAllowed ? 'block' : 'none';\n",
              "        })();\n",
              "      </script>\n",
              "    </div>\n",
              "\n",
              "    </div>\n",
              "  </div>\n"
            ],
            "application/vnd.google.colaboratory.intrinsic+json": {
              "type": "dataframe",
              "summary": "{\n  \"name\": \"df_sorted_profit[['Product Name', 'Profit']]\",\n  \"rows\": 5,\n  \"fields\": [\n    {\n      \"column\": \"Product Name\",\n      \"properties\": {\n        \"dtype\": \"string\",\n        \"num_unique_values\": 3,\n        \"samples\": [\n          \"Canon imageCLASS 2200 Advanced Copier\",\n          \"GBC Ibimaster 500 Manual ProClick Binding System\",\n          \"Ibico EPK-21 Electric Binding System\"\n        ],\n        \"semantic_type\": \"\",\n        \"description\": \"\"\n      }\n    },\n    {\n      \"column\": \"Profit\",\n      \"properties\": {\n        \"dtype\": \"number\",\n        \"std\": 1594.6600117450562,\n        \"min\": 4630.4755,\n        \"max\": 8399.976,\n        \"num_unique_values\": 5,\n        \"samples\": [\n          6719.9808,\n          4630.4755,\n          5039.9856\n        ],\n        \"semantic_type\": \"\",\n        \"description\": \"\"\n      }\n    }\n  ]\n}"
            }
          },
          "metadata": {},
          "execution_count": 15
        }
      ]
    },
    {
      "cell_type": "code",
      "source": [
        "# Sort by Category then Sales\n",
        "df_sorted_multi = df.sort_values(by=['Category', 'Sales'], ascending=[True, False])\n",
        "print(df_sorted_multi.head())"
      ],
      "metadata": {
        "colab": {
          "base_uri": "https://localhost:8080/"
        },
        "id": "BTFVNQpvkCMm",
        "outputId": "7e4c86d4-9630-4698-e93c-74a6cad4d330"
      },
      "execution_count": 16,
      "outputs": [
        {
          "output_type": "stream",
          "name": "stdout",
          "text": [
            "      Row ID        Order ID  Order Date   Ship Date       Ship Mode  \\\n",
            "7243    7244  CA-2017-118892   8/17/2017   8/22/2017    Second Class   \n",
            "9741    9742  CA-2015-117086   11/8/2015  11/12/2015  Standard Class   \n",
            "9639    9640  CA-2015-116638   1/28/2015   1/31/2015    Second Class   \n",
            "5917    5918  US-2015-126977   9/17/2015   9/23/2015  Standard Class   \n",
            "6535    6536  CA-2014-128209  11/17/2014  11/22/2014  Standard Class   \n",
            "\n",
            "     Customer ID Customer Name    Segment        Country           City  ...  \\\n",
            "7243    TP-21415  Tom Prescott   Consumer  United States   Philadelphia  ...   \n",
            "9741    QJ-19255  Quincy Jones  Corporate  United States     Burlington  ...   \n",
            "9639    JH-15985   Joseph Holt   Consumer  United States        Concord  ...   \n",
            "5917    PF-19120  Peter Fuller   Consumer  United States  New York City  ...   \n",
            "6535    GT-14710     Greg Tran   Consumer  United States        Buffalo  ...   \n",
            "\n",
            "     Postal Code  Region       Product ID   Category Sub-Category  \\\n",
            "7243       19134    East  FUR-CH-10002024  Furniture       Chairs   \n",
            "9741        5408    East  FUR-BO-10004834  Furniture    Bookcases   \n",
            "9639       28027   South  FUR-TA-10000198  Furniture       Tables   \n",
            "5917       10035    East  FUR-BO-10004834  Furniture    Bookcases   \n",
            "6535       14215    East  FUR-BO-10002213  Furniture    Bookcases   \n",
            "\n",
            "                                           Product Name     Sales  Quantity  \\\n",
            "7243       HON 5400 Series Task Chairs for Big and Tall  4416.174         9   \n",
            "9741  Riverside Palais Royal Lawyers Bookcase, Royal...  4404.900         5   \n",
            "9639  Chromcraft Bull-Nose Wood Oval Conference Tabl...  4297.644        13   \n",
            "5917  Riverside Palais Royal Lawyers Bookcase, Royal...  4228.704         6   \n",
            "6535              DMI Eclipse Executive Suite Bookcases  4007.840        10   \n",
            "\n",
            "      Discount     Profit  \n",
            "7243       0.3  -630.8820  \n",
            "9741       0.0  1013.1270  \n",
            "9639       0.4 -1862.3124  \n",
            "5917       0.2   158.5764  \n",
            "6535       0.2   -50.0980  \n",
            "\n",
            "[5 rows x 21 columns]\n"
          ]
        }
      ]
    },
    {
      "cell_type": "markdown",
      "source": [
        "## **Section 3: Handling Missing Data**"
      ],
      "metadata": {
        "id": "HzgkNTOTh2La"
      }
    },
    {
      "cell_type": "markdown",
      "source": [
        "Learn to detect, drop, and fill missing values using Pandas' built-in tools."
      ],
      "metadata": {
        "id": "8riuM_MBiREB"
      }
    },
    {
      "cell_type": "code",
      "source": [
        "# Create dummy DataFrame with missing values\n",
        "data = {'Name': ['A', 'B', 'C', 'D'],\n",
        "        'Age': [25, np.nan, 30, np.nan],\n",
        "        'Score': [85, 90, np.nan, 75]}\n",
        "df_missing = pd.DataFrame(data)"
      ],
      "metadata": {
        "id": "pETiajtjkQ5v"
      },
      "execution_count": 17,
      "outputs": []
    },
    {
      "cell_type": "code",
      "source": [
        "# Check nulls\n",
        "print(df_missing.isnull().sum())"
      ],
      "metadata": {
        "colab": {
          "base_uri": "https://localhost:8080/"
        },
        "id": "P14AjnwFkS1-",
        "outputId": "d7e0d4e6-7719-4321-b21a-d5a1abac99d0"
      },
      "execution_count": 18,
      "outputs": [
        {
          "output_type": "stream",
          "name": "stdout",
          "text": [
            "Name     0\n",
            "Age      2\n",
            "Score    1\n",
            "dtype: int64\n"
          ]
        }
      ]
    },
    {
      "cell_type": "code",
      "source": [
        "# Drop rows with nulls\n",
        "print(df_missing.dropna())"
      ],
      "metadata": {
        "colab": {
          "base_uri": "https://localhost:8080/"
        },
        "id": "BxqMVWQ_kU-8",
        "outputId": "daa866c1-282f-4609-c37f-196366050896"
      },
      "execution_count": 19,
      "outputs": [
        {
          "output_type": "stream",
          "name": "stdout",
          "text": [
            "  Name   Age  Score\n",
            "0    A  25.0   85.0\n"
          ]
        }
      ]
    },
    {
      "cell_type": "code",
      "source": [
        "# Fill nulls with a default value\n",
        "print(df_missing.fillna({'Age': 0, 'Score': df_missing['Score'].mean()}))"
      ],
      "metadata": {
        "colab": {
          "base_uri": "https://localhost:8080/"
        },
        "id": "zj50MskXkXJh",
        "outputId": "27e243ae-3c88-4c2c-b362-1aa3b7502bf7"
      },
      "execution_count": 20,
      "outputs": [
        {
          "output_type": "stream",
          "name": "stdout",
          "text": [
            "  Name   Age      Score\n",
            "0    A  25.0  85.000000\n",
            "1    B   0.0  90.000000\n",
            "2    C  30.0  83.333333\n",
            "3    D   0.0  75.000000\n"
          ]
        }
      ]
    },
    {
      "cell_type": "markdown",
      "source": [
        "## **Section 4: GroupBy Operations**"
      ],
      "metadata": {
        "id": "_b5rKlTvh361"
      }
    },
    {
      "cell_type": "markdown",
      "source": [
        "Group and aggregate data to get insights by category, region, or other fields."
      ],
      "metadata": {
        "id": "_gvhtJq-iN9u"
      }
    },
    {
      "cell_type": "code",
      "source": [
        "# Average sales by category\n",
        "category_mean = df.groupby('Category')['Sales'].mean()\n",
        "print(category_mean)"
      ],
      "metadata": {
        "colab": {
          "base_uri": "https://localhost:8080/"
        },
        "id": "4_aBHh3kkajU",
        "outputId": "b0fc6e29-1e42-4ba8-a0a0-f63d17eef507"
      },
      "execution_count": 21,
      "outputs": [
        {
          "output_type": "stream",
          "name": "stdout",
          "text": [
            "Category\n",
            "Furniture          349.834887\n",
            "Office Supplies    119.324101\n",
            "Technology         452.709276\n",
            "Name: Sales, dtype: float64\n"
          ]
        }
      ]
    },
    {
      "cell_type": "code",
      "source": [
        "# Multiple aggregations by Region\n",
        "region_stats = df.groupby('Region')['Sales'].agg(['sum', 'mean', 'count']).reset_index()\n",
        "print(region_stats)"
      ],
      "metadata": {
        "colab": {
          "base_uri": "https://localhost:8080/"
        },
        "id": "aqPHIWf_ka8a",
        "outputId": "2a272d46-e37f-44dc-e60f-80841252b218"
      },
      "execution_count": 22,
      "outputs": [
        {
          "output_type": "stream",
          "name": "stdout",
          "text": [
            "    Region          sum        mean  count\n",
            "0  Central  501239.8908  215.772661   2323\n",
            "1     East  678781.2400  238.336110   2848\n",
            "2    South  391721.9050  241.803645   1620\n",
            "3     West  725457.8245  226.493233   3203\n"
          ]
        }
      ]
    },
    {
      "cell_type": "markdown",
      "source": [
        "# **Section 5: Merging DataFrames**"
      ],
      "metadata": {
        "id": "oZm2r3Mukewp"
      }
    },
    {
      "cell_type": "markdown",
      "source": [
        "We explore `pd.merge()` to combine datasets using keys."
      ],
      "metadata": {
        "id": "D-KiIZ4HkjbH"
      }
    },
    {
      "cell_type": "code",
      "source": [
        "# Sample data\n",
        "orders = pd.DataFrame({\n",
        "    'Order_ID': [1, 2, 3],\n",
        "    'Customer_ID': ['C1', 'C2', 'C3'],\n",
        "    'Amount': [100, 200, 150]\n",
        "})\n",
        "\n",
        "customers = pd.DataFrame({\n",
        "    'Customer_ID': ['C1', 'C2', 'C4'],\n",
        "    'Name': ['Sandhya', 'Dev', 'Shiv']\n",
        "})"
      ],
      "metadata": {
        "id": "EpVTo_Yqkcrm"
      },
      "execution_count": 24,
      "outputs": []
    },
    {
      "cell_type": "code",
      "source": [
        "# Inner join\n",
        "merged_inner = pd.merge(orders, customers, on='Customer_ID', how='inner')\n",
        "print(\"Inner Join:\\n\", merged_inner)"
      ],
      "metadata": {
        "colab": {
          "base_uri": "https://localhost:8080/"
        },
        "id": "GYGUQv6Yklmt",
        "outputId": "69d26e6c-d4c8-4097-baf5-caacf4369561"
      },
      "execution_count": 25,
      "outputs": [
        {
          "output_type": "stream",
          "name": "stdout",
          "text": [
            "Inner Join:\n",
            "    Order_ID Customer_ID  Amount     Name\n",
            "0         1          C1     100  Sandhya\n",
            "1         2          C2     200      Dev\n"
          ]
        }
      ]
    },
    {
      "cell_type": "code",
      "source": [
        "# Outer join\n",
        "merged_outer = pd.merge(orders, customers, on='Customer_ID', how='outer')\n",
        "print(\"Outer Join:\\n\", merged_outer)"
      ],
      "metadata": {
        "colab": {
          "base_uri": "https://localhost:8080/"
        },
        "id": "a8K19uJckqhp",
        "outputId": "add85274-11f1-4f0d-d9dd-4d09ec16df32"
      },
      "execution_count": 26,
      "outputs": [
        {
          "output_type": "stream",
          "name": "stdout",
          "text": [
            "Outer Join:\n",
            "    Order_ID Customer_ID  Amount     Name\n",
            "0       1.0          C1   100.0  Sandhya\n",
            "1       2.0          C2   200.0      Dev\n",
            "2       3.0          C3   150.0      NaN\n",
            "3       NaN          C4     NaN     Shiv\n"
          ]
        }
      ]
    },
    {
      "cell_type": "markdown",
      "source": [
        "# **Summary**"
      ],
      "metadata": {
        "id": "QeSU1bBIkuMw"
      }
    },
    {
      "cell_type": "markdown",
      "source": [
        "🧠 Key Concepts Practiced Today:\n",
        "- Accessing data using `.loc[]`, `.iloc[]`\n",
        "- Filtering rows with conditions\n",
        "- Handling missing data using `.isnull()`, `.dropna()`, `.fillna()`\n",
        "- Aggregating data using `.groupby()`, `.agg()`\n",
        "- Merging datasets with `pd.merge()` (inner/outer joins)\n",
        "\n",
        "🎯 This session improved my real-world data manipulation skills using Pandas, which is essential for analytics and reporting workflows.\n"
      ],
      "metadata": {
        "id": "F5UonYGvkyo0"
      }
    }
  ]
}