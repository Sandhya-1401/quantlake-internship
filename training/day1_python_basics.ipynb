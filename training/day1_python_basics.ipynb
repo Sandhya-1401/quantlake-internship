{
  "nbformat": 4,
  "nbformat_minor": 0,
  "metadata": {
    "colab": {
      "provenance": [],
      "collapsed_sections": [
        "P7vFF3Xl5ohh",
        "1_p-1CtP56O_",
        "335-a5FK6JZ7",
        "sDmq1Kv76xUF",
        "XZv7w8ge8CLV",
        "U6xk950q8QFr",
        "uclM6Evh8eBw",
        "4wCIon_V9CvP"
      ]
    },
    "kernelspec": {
      "name": "python3",
      "display_name": "Python 3"
    },
    "language_info": {
      "name": "python"
    }
  },
  "cells": [
    {
      "cell_type": "markdown",
      "source": [
        "# **Day 1 – Python Basics**"
      ],
      "metadata": {
        "id": "P7vFF3Xl5ohh"
      }
    },
    {
      "cell_type": "markdown",
      "source": [
        "Day 1 of the QuantLake Internship"
      ],
      "metadata": {
        "id": "mH9um-Q_9Oxf"
      }
    },
    {
      "cell_type": "markdown",
      "source": [
        "## **Objective**"
      ],
      "metadata": {
        "id": "1_p-1CtP56O_"
      }
    },
    {
      "cell_type": "markdown",
      "source": [
        "- Practice Python fundamentals\n",
        "- Understand core data types, operators, and control flow\n",
        "- Set up a clean, readable notebook"
      ],
      "metadata": {
        "id": "3XZ_ffv06A4f"
      }
    },
    {
      "cell_type": "markdown",
      "source": [
        "## **Section 1: Variables & Data Types**"
      ],
      "metadata": {
        "id": "335-a5FK6JZ7"
      }
    },
    {
      "cell_type": "markdown",
      "source": [
        "In Python, variables are used to store information. Python has different data types such as:\n",
        "- Integers (`int`)\n",
        "- Floating-point numbers (`float`)\n",
        "- Strings (`str`)\n",
        "- Boolean (`bool`)"
      ],
      "metadata": {
        "id": "zoLFeYju6Ne-"
      }
    },
    {
      "cell_type": "code",
      "execution_count": 1,
      "metadata": {
        "colab": {
          "base_uri": "https://localhost:8080/"
        },
        "id": "gJFoGK0e5fU9",
        "outputId": "736e6814-c4b3-48a9-c66f-5e2abc9bba17"
      },
      "outputs": [
        {
          "output_type": "stream",
          "name": "stdout",
          "text": [
            "Age: 21\n"
          ]
        }
      ],
      "source": [
        "# Integer\n",
        "age = 21\n",
        "print(\"Age:\", age)"
      ]
    },
    {
      "cell_type": "code",
      "source": [
        "# Float\n",
        "height = 5.6\n",
        "print(\"Height:\", height)"
      ],
      "metadata": {
        "colab": {
          "base_uri": "https://localhost:8080/"
        },
        "id": "JYRcl6Vo6To7",
        "outputId": "16a11922-6941-486e-f7bf-fcc9a7a19a0c"
      },
      "execution_count": 2,
      "outputs": [
        {
          "output_type": "stream",
          "name": "stdout",
          "text": [
            "Height: 5.6\n"
          ]
        }
      ]
    },
    {
      "cell_type": "code",
      "source": [
        "# String\n",
        "name = \"Sandhya\"\n",
        "print(\"Name:\", name)"
      ],
      "metadata": {
        "colab": {
          "base_uri": "https://localhost:8080/"
        },
        "id": "TNIE9BqX6Wjw",
        "outputId": "79ecb2ce-c9e8-42c2-fec7-615d7f07d504"
      },
      "execution_count": 3,
      "outputs": [
        {
          "output_type": "stream",
          "name": "stdout",
          "text": [
            "Name: Sandhya\n"
          ]
        }
      ]
    },
    {
      "cell_type": "code",
      "source": [
        "# Boolean\n",
        "is_intern = True\n",
        "print(\"Is Intern:\", is_intern)"
      ],
      "metadata": {
        "colab": {
          "base_uri": "https://localhost:8080/"
        },
        "id": "NKYbVWw56rCb",
        "outputId": "685e68e6-f385-4956-beb0-0d3051284995"
      },
      "execution_count": 4,
      "outputs": [
        {
          "output_type": "stream",
          "name": "stdout",
          "text": [
            "Is Intern: True\n"
          ]
        }
      ]
    },
    {
      "cell_type": "markdown",
      "source": [
        "## **Section 2: Lists, Tuples, and Dictionaries**"
      ],
      "metadata": {
        "id": "sDmq1Kv76xUF"
      }
    },
    {
      "cell_type": "markdown",
      "source": [
        "These are Python collections used to store multiple values:\n",
        "- List: Ordered, mutable collection\n",
        "- Tuple: Ordered, immutable collection\n",
        "- Dictionary: Key-value pairs"
      ],
      "metadata": {
        "id": "tZlh3Zuf63Fg"
      }
    },
    {
      "cell_type": "code",
      "source": [
        "# List\n",
        "skills = [\"Python\", \"SQL\", \"Excel\"]\n",
        "print(\"Skills List:\", skills)"
      ],
      "metadata": {
        "colab": {
          "base_uri": "https://localhost:8080/"
        },
        "id": "ghviLQdP6tYy",
        "outputId": "8232dcf6-cb69-4a43-f73a-adb9cd429c2e"
      },
      "execution_count": 5,
      "outputs": [
        {
          "output_type": "stream",
          "name": "stdout",
          "text": [
            "Skills List: ['Python', 'SQL', 'Excel']\n"
          ]
        }
      ]
    },
    {
      "cell_type": "code",
      "source": [
        "# Tuple\n",
        "internship_duration = (\"June 16\", \"July 31\")\n",
        "print(\"Internship Duration Tuple:\", internship_duration)"
      ],
      "metadata": {
        "colab": {
          "base_uri": "https://localhost:8080/"
        },
        "id": "123wvuoW65lX",
        "outputId": "d8311774-5a18-4ec8-e59f-10d280f66913"
      },
      "execution_count": 6,
      "outputs": [
        {
          "output_type": "stream",
          "name": "stdout",
          "text": [
            "Internship Duration Tuple: ('June 16', 'July 31')\n"
          ]
        }
      ]
    },
    {
      "cell_type": "code",
      "source": [
        "# Dictionary\n",
        "intern_info = {\n",
        "    \"name\": \"Sandhya\",\n",
        "    \"role\": \"Data Analyst Intern\",\n",
        "    \"company\": \"QuantLake\"\n",
        "}\n",
        "print(\"Intern Dictionary:\", intern_info)"
      ],
      "metadata": {
        "colab": {
          "base_uri": "https://localhost:8080/"
        },
        "id": "nezsP5qH68gk",
        "outputId": "de91a2bd-691e-4801-8846-1b5a9c10543a"
      },
      "execution_count": 7,
      "outputs": [
        {
          "output_type": "stream",
          "name": "stdout",
          "text": [
            "Intern Dictionary: {'name': 'Sandhya', 'role': 'Data Analyst Intern', 'company': 'QuantLake'}\n"
          ]
        }
      ]
    },
    {
      "cell_type": "markdown",
      "source": [
        "## **Section 3: Arithmetic & Comparison Operators**"
      ],
      "metadata": {
        "id": "XZv7w8ge8CLV"
      }
    },
    {
      "cell_type": "markdown",
      "source": [
        "Python supports:\n",
        "- Arithmetic operators: `+`, `-`, `*`, `/`, `//`, `%`, `**`\n",
        "- Comparison operators: `==`, `!=`, `>`, `<`, `>=`, `<=`"
      ],
      "metadata": {
        "id": "eLSBe_mw8IV4"
      }
    },
    {
      "cell_type": "code",
      "source": [
        "# Arithmetic\n",
        "a = 10\n",
        "b = 3\n",
        "print(\"Addition:\", a + b)\n",
        "print(\"Division:\", a / b)\n",
        "print(\"Exponent:\", a ** b)\n"
      ],
      "metadata": {
        "colab": {
          "base_uri": "https://localhost:8080/"
        },
        "id": "kLIJuvGc6-r_",
        "outputId": "5b251a00-a9de-4bcb-a30f-fc4b98fe8858"
      },
      "execution_count": 8,
      "outputs": [
        {
          "output_type": "stream",
          "name": "stdout",
          "text": [
            "Addition: 13\n",
            "Division: 3.3333333333333335\n",
            "Exponent: 1000\n"
          ]
        }
      ]
    },
    {
      "cell_type": "code",
      "source": [
        "# Comparison\n",
        "print(\"Is a greater than b?\", a > b)\n",
        "print(\"Is a equal to b?\", a == b)"
      ],
      "metadata": {
        "colab": {
          "base_uri": "https://localhost:8080/"
        },
        "id": "PRm0sm_T8MHK",
        "outputId": "37b54424-5027-4244-f192-75412bcac2fa"
      },
      "execution_count": 9,
      "outputs": [
        {
          "output_type": "stream",
          "name": "stdout",
          "text": [
            "Is a greater than b? True\n",
            "Is a equal to b? False\n"
          ]
        }
      ]
    },
    {
      "cell_type": "markdown",
      "source": [
        "## **Section 4: Control Flow – if/elif/else**"
      ],
      "metadata": {
        "id": "U6xk950q8QFr"
      }
    },
    {
      "cell_type": "markdown",
      "source": [
        "Used to run code conditionally based on logic."
      ],
      "metadata": {
        "id": "OKXQlNKV8UyK"
      }
    },
    {
      "cell_type": "code",
      "source": [
        "score = 85\n",
        "\n",
        "if score >= 90:\n",
        "    print(\"Excellent!\")\n",
        "elif score >= 75:\n",
        "    print(\"Good job!\")\n",
        "else:\n",
        "    print(\"Keep improving!\")"
      ],
      "metadata": {
        "colab": {
          "base_uri": "https://localhost:8080/"
        },
        "id": "GrFwjiS68OEP",
        "outputId": "42acec8f-e87e-45f6-ec21-80faea4e80f8"
      },
      "execution_count": 11,
      "outputs": [
        {
          "output_type": "stream",
          "name": "stdout",
          "text": [
            "Good job!\n"
          ]
        }
      ]
    },
    {
      "cell_type": "markdown",
      "source": [
        "## **Section 5: Loops – for & while**"
      ],
      "metadata": {
        "id": "uclM6Evh8eBw"
      }
    },
    {
      "cell_type": "markdown",
      "source": [
        "Used to repeat actions multiple times."
      ],
      "metadata": {
        "id": "jISdaemo8hca"
      }
    },
    {
      "cell_type": "code",
      "source": [
        "# For loop\n",
        "for skill in skills:\n",
        "    print(\"Learning:\", skill)"
      ],
      "metadata": {
        "colab": {
          "base_uri": "https://localhost:8080/"
        },
        "id": "tfZ6ymID8X2l",
        "outputId": "5319a8ab-0c1b-4b84-a26e-e23dd3b36a36"
      },
      "execution_count": 12,
      "outputs": [
        {
          "output_type": "stream",
          "name": "stdout",
          "text": [
            "Learning: Python\n",
            "Learning: SQL\n",
            "Learning: Excel\n"
          ]
        }
      ]
    },
    {
      "cell_type": "code",
      "source": [
        "# While loop\n",
        "count = 1\n",
        "while count <= 3:\n",
        "    print(\"Day\", count)\n",
        "    count += 1"
      ],
      "metadata": {
        "colab": {
          "base_uri": "https://localhost:8080/"
        },
        "id": "OYGjS5dv8_Dx",
        "outputId": "dc652af0-3239-4f45-fd66-635238239261"
      },
      "execution_count": 13,
      "outputs": [
        {
          "output_type": "stream",
          "name": "stdout",
          "text": [
            "Day 1\n",
            "Day 2\n",
            "Day 3\n"
          ]
        }
      ]
    },
    {
      "cell_type": "markdown",
      "source": [
        "## **Summary**"
      ],
      "metadata": {
        "id": "4wCIon_V9CvP"
      }
    },
    {
      "cell_type": "markdown",
      "source": [
        "In this notebook, I revised:\n",
        "- Python variable types (int, float, str, bool)\n",
        "- Collections (lists, tuples, dicts)\n",
        "- Operators and expressions\n",
        "- Conditional logic and loops\n",
        "\n",
        "This setup will help in building logic for data analytics tasks ahead."
      ],
      "metadata": {
        "id": "LVD7H7kx9Gzh"
      }
    }
  ]
}